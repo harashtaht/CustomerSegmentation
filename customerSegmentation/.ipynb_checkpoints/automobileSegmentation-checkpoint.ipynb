{
 "cells": [
  {
   "cell_type": "markdown",
   "metadata": {},
   "source": [
    "## Customer Segmentation for Automobile Company"
   ]
  },
  {
   "cell_type": "markdown",
   "metadata": {},
   "source": [
    "<u>Context</u>\n",
    "\n",
    "An automobile company has plans to enter new markets with their existing products (P1, P2, P3, P4 and P5). After intensive market research, they’ve deduced that the behavior of new market is similar to their existing market.\n",
    "\n",
    "<u>Content</u>\n",
    "\n",
    "In their existing market, the sales team has classified all customers into 4 segments (A, B, C, D ). Then, they performed segmented outreach and communication for different segment of customers. This strategy has work exceptionally well for them. They plan to use the same strategy on new markets and have identified 2627 new potential customers.\n",
    "\n",
    "You are required to help the manager to predict the right group of the new customers.\n",
    "\n",
    "Acknowledgements\n",
    "\n",
    "https://datahack.analyticsvidhya.com/contest/janatahack-customer-segmentation/#ProblemStatement\n",
    "\n",
    "Inspiration\n",
    "\n",
    "https://datahack.analyticsvidhya.com/contest/janatahack-customer-segmentation/#ProblemStatement\n",
    "\n",
    "Dataset Source\n",
    "\n",
    "https://www.kaggle.com/vetrirah/customer"
   ]
  },
  {
   "cell_type": "markdown",
   "metadata": {},
   "source": [
    "### __1. Data Preprocessing__ \n",
    "\n",
    "The first step in building the model is to importing Libraries and understanding features within the unprocessed dataset."
   ]
  },
  {
   "cell_type": "code",
   "execution_count": 1,
   "metadata": {},
   "outputs": [],
   "source": [
    "import pandas as pd\n",
    "import seaborn as sns\n",
    "import matplotlib.pyplot as plt\n",
    "import numpy as np\n",
    "%matplotlib inline"
   ]
  },
  {
   "cell_type": "markdown",
   "metadata": {},
   "source": [
    "__a. Sample Submission Data__"
   ]
  },
  {
   "cell_type": "code",
   "execution_count": 2,
   "metadata": {},
   "outputs": [
    {
     "data": {
      "text/html": [
       "<div>\n",
       "<style scoped>\n",
       "    .dataframe tbody tr th:only-of-type {\n",
       "        vertical-align: middle;\n",
       "    }\n",
       "\n",
       "    .dataframe tbody tr th {\n",
       "        vertical-align: top;\n",
       "    }\n",
       "\n",
       "    .dataframe thead th {\n",
       "        text-align: right;\n",
       "    }\n",
       "</style>\n",
       "<table border=\"1\" class=\"dataframe\">\n",
       "  <thead>\n",
       "    <tr style=\"text-align: right;\">\n",
       "      <th></th>\n",
       "      <th>ID</th>\n",
       "      <th>Segmentation</th>\n",
       "    </tr>\n",
       "  </thead>\n",
       "  <tbody>\n",
       "    <tr>\n",
       "      <th>0</th>\n",
       "      <td>458989</td>\n",
       "      <td>A</td>\n",
       "    </tr>\n",
       "    <tr>\n",
       "      <th>1</th>\n",
       "      <td>458994</td>\n",
       "      <td>A</td>\n",
       "    </tr>\n",
       "    <tr>\n",
       "      <th>2</th>\n",
       "      <td>458996</td>\n",
       "      <td>A</td>\n",
       "    </tr>\n",
       "    <tr>\n",
       "      <th>3</th>\n",
       "      <td>459000</td>\n",
       "      <td>A</td>\n",
       "    </tr>\n",
       "    <tr>\n",
       "      <th>4</th>\n",
       "      <td>459001</td>\n",
       "      <td>A</td>\n",
       "    </tr>\n",
       "  </tbody>\n",
       "</table>\n",
       "</div>"
      ],
      "text/plain": [
       "       ID Segmentation\n",
       "0  458989            A\n",
       "1  458994            A\n",
       "2  458996            A\n",
       "3  459000            A\n",
       "4  459001            A"
      ]
     },
     "execution_count": 2,
     "metadata": {},
     "output_type": "execute_result"
    }
   ],
   "source": [
    "df1 = pd.read_csv('./Files/sample_submission.csv')\n",
    "df1.head()"
   ]
  },
  {
   "cell_type": "code",
   "execution_count": 3,
   "metadata": {},
   "outputs": [
    {
     "data": {
      "text/html": [
       "<div>\n",
       "<style scoped>\n",
       "    .dataframe tbody tr th:only-of-type {\n",
       "        vertical-align: middle;\n",
       "    }\n",
       "\n",
       "    .dataframe tbody tr th {\n",
       "        vertical-align: top;\n",
       "    }\n",
       "\n",
       "    .dataframe thead th {\n",
       "        text-align: right;\n",
       "    }\n",
       "</style>\n",
       "<table border=\"1\" class=\"dataframe\">\n",
       "  <thead>\n",
       "    <tr style=\"text-align: right;\">\n",
       "      <th></th>\n",
       "      <th>dataFeatures</th>\n",
       "      <th>dataType</th>\n",
       "      <th>null</th>\n",
       "      <th>nullPct</th>\n",
       "      <th>unique</th>\n",
       "      <th>uniqueSample</th>\n",
       "    </tr>\n",
       "  </thead>\n",
       "  <tbody>\n",
       "    <tr>\n",
       "      <th>0</th>\n",
       "      <td>ID</td>\n",
       "      <td>int64</td>\n",
       "      <td>0</td>\n",
       "      <td>0.0</td>\n",
       "      <td>2627</td>\n",
       "      <td>[458989, 458994, 458996, 459000, 459001]</td>\n",
       "    </tr>\n",
       "    <tr>\n",
       "      <th>1</th>\n",
       "      <td>Segmentation</td>\n",
       "      <td>object</td>\n",
       "      <td>0</td>\n",
       "      <td>0.0</td>\n",
       "      <td>1</td>\n",
       "      <td>[A]</td>\n",
       "    </tr>\n",
       "  </tbody>\n",
       "</table>\n",
       "</div>"
      ],
      "text/plain": [
       "   dataFeatures dataType  null  nullPct  unique  \\\n",
       "0            ID    int64     0      0.0    2627   \n",
       "1  Segmentation   object     0      0.0       1   \n",
       "\n",
       "                               uniqueSample  \n",
       "0  [458989, 458994, 458996, 459000, 459001]  \n",
       "1                                       [A]  "
      ]
     },
     "execution_count": 3,
     "metadata": {},
     "output_type": "execute_result"
    }
   ],
   "source": [
    "listItem = []\n",
    "for col in df1.columns:\n",
    "    listItem.append([col, df1[col].dtype,\n",
    "                   df1[col].isna().sum(),\n",
    "                   round((df1[col].isna().sum()/len(df1[col])) *100, 2),\n",
    "                   df1[col].nunique(), list(df1[col].unique()[:5])]);\n",
    "\n",
    "df1Desc = pd.DataFrame(columns=['dataFeatures', 'dataType', 'null', 'nullPct', 'unique', 'uniqueSample'],\n",
    "                     data=listItem)\n",
    "\n",
    "df1Desc"
   ]
  },
  {
   "cell_type": "code",
   "execution_count": 4,
   "metadata": {},
   "outputs": [
    {
     "data": {
      "text/html": [
       "<div>\n",
       "<style scoped>\n",
       "    .dataframe tbody tr th:only-of-type {\n",
       "        vertical-align: middle;\n",
       "    }\n",
       "\n",
       "    .dataframe tbody tr th {\n",
       "        vertical-align: top;\n",
       "    }\n",
       "\n",
       "    .dataframe thead th {\n",
       "        text-align: right;\n",
       "    }\n",
       "</style>\n",
       "<table border=\"1\" class=\"dataframe\">\n",
       "  <thead>\n",
       "    <tr style=\"text-align: right;\">\n",
       "      <th></th>\n",
       "      <th>count</th>\n",
       "      <th>mean</th>\n",
       "      <th>std</th>\n",
       "      <th>min</th>\n",
       "      <th>25%</th>\n",
       "      <th>50%</th>\n",
       "      <th>75%</th>\n",
       "      <th>max</th>\n",
       "    </tr>\n",
       "  </thead>\n",
       "  <tbody>\n",
       "    <tr>\n",
       "      <th>ID</th>\n",
       "      <td>2627.0</td>\n",
       "      <td>463433.918919</td>\n",
       "      <td>2618.245698</td>\n",
       "      <td>458989.0</td>\n",
       "      <td>461162.5</td>\n",
       "      <td>463379.0</td>\n",
       "      <td>465696.0</td>\n",
       "      <td>467968.0</td>\n",
       "    </tr>\n",
       "  </tbody>\n",
       "</table>\n",
       "</div>"
      ],
      "text/plain": [
       "     count           mean          std       min       25%       50%  \\\n",
       "ID  2627.0  463433.918919  2618.245698  458989.0  461162.5  463379.0   \n",
       "\n",
       "         75%       max  \n",
       "ID  465696.0  467968.0  "
      ]
     },
     "execution_count": 4,
     "metadata": {},
     "output_type": "execute_result"
    }
   ],
   "source": [
    "df1.describe().T"
   ]
  },
  {
   "cell_type": "markdown",
   "metadata": {},
   "source": [
    "__b. Train and Test Data__\n",
    "\n",
    "Columns Explanation:\n",
    "\n",
    "- Work_Experience = customer's work experience in Years.\n",
    "- Graduated = indication whether the customer has graduated.\n",
    "- Family_Size = Number of family members including the customer.\n",
    "- Spending_Score = Spending score of the customer.\n",
    "- Var_1 = Anonymised Category for the customer.\n",
    "- Segmentation = (target) Customer Segment of the Customer."
   ]
  },
  {
   "cell_type": "markdown",
   "metadata": {},
   "source": [
    "Dataframe preparation"
   ]
  },
  {
   "cell_type": "code",
   "execution_count": 5,
   "metadata": {},
   "outputs": [
    {
     "data": {
      "text/html": [
       "<div>\n",
       "<style scoped>\n",
       "    .dataframe tbody tr th:only-of-type {\n",
       "        vertical-align: middle;\n",
       "    }\n",
       "\n",
       "    .dataframe tbody tr th {\n",
       "        vertical-align: top;\n",
       "    }\n",
       "\n",
       "    .dataframe thead th {\n",
       "        text-align: right;\n",
       "    }\n",
       "</style>\n",
       "<table border=\"1\" class=\"dataframe\">\n",
       "  <thead>\n",
       "    <tr style=\"text-align: right;\">\n",
       "      <th></th>\n",
       "      <th>ID</th>\n",
       "      <th>Gender</th>\n",
       "      <th>Ever_Married</th>\n",
       "      <th>Age</th>\n",
       "      <th>Graduated</th>\n",
       "      <th>Profession</th>\n",
       "      <th>Work_Experience</th>\n",
       "      <th>Spending_Score</th>\n",
       "      <th>Family_Size</th>\n",
       "      <th>Var_1</th>\n",
       "      <th>Segmentation</th>\n",
       "    </tr>\n",
       "  </thead>\n",
       "  <tbody>\n",
       "    <tr>\n",
       "      <th>0</th>\n",
       "      <td>462809</td>\n",
       "      <td>Male</td>\n",
       "      <td>No</td>\n",
       "      <td>22</td>\n",
       "      <td>No</td>\n",
       "      <td>Healthcare</td>\n",
       "      <td>1.0</td>\n",
       "      <td>Low</td>\n",
       "      <td>4.0</td>\n",
       "      <td>Cat_4</td>\n",
       "      <td>D</td>\n",
       "    </tr>\n",
       "    <tr>\n",
       "      <th>1</th>\n",
       "      <td>462643</td>\n",
       "      <td>Female</td>\n",
       "      <td>Yes</td>\n",
       "      <td>38</td>\n",
       "      <td>Yes</td>\n",
       "      <td>Engineer</td>\n",
       "      <td>NaN</td>\n",
       "      <td>Average</td>\n",
       "      <td>3.0</td>\n",
       "      <td>Cat_4</td>\n",
       "      <td>A</td>\n",
       "    </tr>\n",
       "    <tr>\n",
       "      <th>2</th>\n",
       "      <td>466315</td>\n",
       "      <td>Female</td>\n",
       "      <td>Yes</td>\n",
       "      <td>67</td>\n",
       "      <td>Yes</td>\n",
       "      <td>Engineer</td>\n",
       "      <td>1.0</td>\n",
       "      <td>Low</td>\n",
       "      <td>1.0</td>\n",
       "      <td>Cat_6</td>\n",
       "      <td>B</td>\n",
       "    </tr>\n",
       "    <tr>\n",
       "      <th>3</th>\n",
       "      <td>461735</td>\n",
       "      <td>Male</td>\n",
       "      <td>Yes</td>\n",
       "      <td>67</td>\n",
       "      <td>Yes</td>\n",
       "      <td>Lawyer</td>\n",
       "      <td>0.0</td>\n",
       "      <td>High</td>\n",
       "      <td>2.0</td>\n",
       "      <td>Cat_6</td>\n",
       "      <td>B</td>\n",
       "    </tr>\n",
       "    <tr>\n",
       "      <th>4</th>\n",
       "      <td>462669</td>\n",
       "      <td>Female</td>\n",
       "      <td>Yes</td>\n",
       "      <td>40</td>\n",
       "      <td>Yes</td>\n",
       "      <td>Entertainment</td>\n",
       "      <td>NaN</td>\n",
       "      <td>High</td>\n",
       "      <td>6.0</td>\n",
       "      <td>Cat_6</td>\n",
       "      <td>A</td>\n",
       "    </tr>\n",
       "  </tbody>\n",
       "</table>\n",
       "</div>"
      ],
      "text/plain": [
       "       ID  Gender Ever_Married  Age Graduated     Profession  Work_Experience  \\\n",
       "0  462809    Male           No   22        No     Healthcare              1.0   \n",
       "1  462643  Female          Yes   38       Yes       Engineer              NaN   \n",
       "2  466315  Female          Yes   67       Yes       Engineer              1.0   \n",
       "3  461735    Male          Yes   67       Yes         Lawyer              0.0   \n",
       "4  462669  Female          Yes   40       Yes  Entertainment              NaN   \n",
       "\n",
       "  Spending_Score  Family_Size  Var_1 Segmentation  \n",
       "0            Low          4.0  Cat_4            D  \n",
       "1        Average          3.0  Cat_4            A  \n",
       "2            Low          1.0  Cat_6            B  \n",
       "3           High          2.0  Cat_6            B  \n",
       "4           High          6.0  Cat_6            A  "
      ]
     },
     "execution_count": 5,
     "metadata": {},
     "output_type": "execute_result"
    }
   ],
   "source": [
    "dfTr = pd.read_csv('./Files/Train.csv')\n",
    "dfTr.head()"
   ]
  },
  {
   "cell_type": "code",
   "execution_count": 6,
   "metadata": {},
   "outputs": [
    {
     "data": {
      "text/html": [
       "<div>\n",
       "<style scoped>\n",
       "    .dataframe tbody tr th:only-of-type {\n",
       "        vertical-align: middle;\n",
       "    }\n",
       "\n",
       "    .dataframe tbody tr th {\n",
       "        vertical-align: top;\n",
       "    }\n",
       "\n",
       "    .dataframe thead th {\n",
       "        text-align: right;\n",
       "    }\n",
       "</style>\n",
       "<table border=\"1\" class=\"dataframe\">\n",
       "  <thead>\n",
       "    <tr style=\"text-align: right;\">\n",
       "      <th></th>\n",
       "      <th>ID</th>\n",
       "      <th>Gender</th>\n",
       "      <th>Ever_Married</th>\n",
       "      <th>Age</th>\n",
       "      <th>Graduated</th>\n",
       "      <th>Profession</th>\n",
       "      <th>Work_Experience</th>\n",
       "      <th>Spending_Score</th>\n",
       "      <th>Family_Size</th>\n",
       "      <th>Var_1</th>\n",
       "    </tr>\n",
       "  </thead>\n",
       "  <tbody>\n",
       "    <tr>\n",
       "      <th>0</th>\n",
       "      <td>458989</td>\n",
       "      <td>Female</td>\n",
       "      <td>Yes</td>\n",
       "      <td>36</td>\n",
       "      <td>Yes</td>\n",
       "      <td>Engineer</td>\n",
       "      <td>0.0</td>\n",
       "      <td>Low</td>\n",
       "      <td>1.0</td>\n",
       "      <td>Cat_6</td>\n",
       "    </tr>\n",
       "    <tr>\n",
       "      <th>1</th>\n",
       "      <td>458994</td>\n",
       "      <td>Male</td>\n",
       "      <td>Yes</td>\n",
       "      <td>37</td>\n",
       "      <td>Yes</td>\n",
       "      <td>Healthcare</td>\n",
       "      <td>8.0</td>\n",
       "      <td>Average</td>\n",
       "      <td>4.0</td>\n",
       "      <td>Cat_6</td>\n",
       "    </tr>\n",
       "    <tr>\n",
       "      <th>2</th>\n",
       "      <td>458996</td>\n",
       "      <td>Female</td>\n",
       "      <td>Yes</td>\n",
       "      <td>69</td>\n",
       "      <td>No</td>\n",
       "      <td>NaN</td>\n",
       "      <td>0.0</td>\n",
       "      <td>Low</td>\n",
       "      <td>1.0</td>\n",
       "      <td>Cat_6</td>\n",
       "    </tr>\n",
       "    <tr>\n",
       "      <th>3</th>\n",
       "      <td>459000</td>\n",
       "      <td>Male</td>\n",
       "      <td>Yes</td>\n",
       "      <td>59</td>\n",
       "      <td>No</td>\n",
       "      <td>Executive</td>\n",
       "      <td>11.0</td>\n",
       "      <td>High</td>\n",
       "      <td>2.0</td>\n",
       "      <td>Cat_6</td>\n",
       "    </tr>\n",
       "    <tr>\n",
       "      <th>4</th>\n",
       "      <td>459001</td>\n",
       "      <td>Female</td>\n",
       "      <td>No</td>\n",
       "      <td>19</td>\n",
       "      <td>No</td>\n",
       "      <td>Marketing</td>\n",
       "      <td>NaN</td>\n",
       "      <td>Low</td>\n",
       "      <td>4.0</td>\n",
       "      <td>Cat_6</td>\n",
       "    </tr>\n",
       "  </tbody>\n",
       "</table>\n",
       "</div>"
      ],
      "text/plain": [
       "       ID  Gender Ever_Married  Age Graduated  Profession  Work_Experience  \\\n",
       "0  458989  Female          Yes   36       Yes    Engineer              0.0   \n",
       "1  458994    Male          Yes   37       Yes  Healthcare              8.0   \n",
       "2  458996  Female          Yes   69        No         NaN              0.0   \n",
       "3  459000    Male          Yes   59        No   Executive             11.0   \n",
       "4  459001  Female           No   19        No   Marketing              NaN   \n",
       "\n",
       "  Spending_Score  Family_Size  Var_1  \n",
       "0            Low          1.0  Cat_6  \n",
       "1        Average          4.0  Cat_6  \n",
       "2            Low          1.0  Cat_6  \n",
       "3           High          2.0  Cat_6  \n",
       "4            Low          4.0  Cat_6  "
      ]
     },
     "execution_count": 6,
     "metadata": {},
     "output_type": "execute_result"
    }
   ],
   "source": [
    "dfTs = pd.read_csv('./Files/Test.csv')\n",
    "dfTs.head()"
   ]
  },
  {
   "cell_type": "code",
   "execution_count": 7,
   "metadata": {},
   "outputs": [
    {
     "name": "stdout",
     "output_type": "stream",
     "text": [
      "(8068, 11)\n",
      "(2627, 10)\n"
     ]
    }
   ],
   "source": [
    "print(dfTr.shape)\n",
    "print(dfTs.shape)"
   ]
  },
  {
   "cell_type": "markdown",
   "metadata": {},
   "source": [
    "Comments:\n",
    "\n",
    "- The train data has 8068 rows, and 11 columns. \n",
    "- Whereas the test data consists of 2627 rows and 10 columns.\n",
    "- The test data has 1 less column, which is due to \"Segmentation\" being the target.\n",
    "- Thus, the ratio of train to test data is 3:1 which is quite good for the model. 24.5% of the whole data available for the model training."
   ]
  },
  {
   "cell_type": "markdown",
   "metadata": {},
   "source": [
    "__c. Dataframe Information__"
   ]
  },
  {
   "cell_type": "markdown",
   "metadata": {},
   "source": [
    "__c.1. Train Dataframe__"
   ]
  },
  {
   "cell_type": "code",
   "execution_count": 8,
   "metadata": {},
   "outputs": [],
   "source": [
    "#Function to describe Dataframe\n",
    "\n",
    "def describeDF(x):\n",
    "    listItem = []\n",
    "    for col in x.columns:\n",
    "        listItem.append([col, x[col].dtype,\n",
    "                       x[col].isna().sum(),\n",
    "                       round((x[col].isna().sum()/len(x[col])) *100, 2),\n",
    "                       x[col].nunique(), list(x[col].unique()[:5])]);\n",
    "\n",
    "    desc = pd.DataFrame(columns=['dataFeatures', 'dataType', 'null', 'nullPct', 'unique', 'uniqueSample'],\n",
    "                         data=listItem)\n",
    "    return desc"
   ]
  },
  {
   "cell_type": "code",
   "execution_count": 9,
   "metadata": {},
   "outputs": [
    {
     "data": {
      "text/html": [
       "<div>\n",
       "<style scoped>\n",
       "    .dataframe tbody tr th:only-of-type {\n",
       "        vertical-align: middle;\n",
       "    }\n",
       "\n",
       "    .dataframe tbody tr th {\n",
       "        vertical-align: top;\n",
       "    }\n",
       "\n",
       "    .dataframe thead th {\n",
       "        text-align: right;\n",
       "    }\n",
       "</style>\n",
       "<table border=\"1\" class=\"dataframe\">\n",
       "  <thead>\n",
       "    <tr style=\"text-align: right;\">\n",
       "      <th></th>\n",
       "      <th>dataFeatures</th>\n",
       "      <th>dataType</th>\n",
       "      <th>null</th>\n",
       "      <th>nullPct</th>\n",
       "      <th>unique</th>\n",
       "      <th>uniqueSample</th>\n",
       "    </tr>\n",
       "  </thead>\n",
       "  <tbody>\n",
       "    <tr>\n",
       "      <th>0</th>\n",
       "      <td>ID</td>\n",
       "      <td>int64</td>\n",
       "      <td>0</td>\n",
       "      <td>0.00</td>\n",
       "      <td>8068</td>\n",
       "      <td>[462809, 462643, 466315, 461735, 462669]</td>\n",
       "    </tr>\n",
       "    <tr>\n",
       "      <th>1</th>\n",
       "      <td>Gender</td>\n",
       "      <td>object</td>\n",
       "      <td>0</td>\n",
       "      <td>0.00</td>\n",
       "      <td>2</td>\n",
       "      <td>[Male, Female]</td>\n",
       "    </tr>\n",
       "    <tr>\n",
       "      <th>2</th>\n",
       "      <td>Ever_Married</td>\n",
       "      <td>object</td>\n",
       "      <td>140</td>\n",
       "      <td>1.74</td>\n",
       "      <td>2</td>\n",
       "      <td>[No, Yes, nan]</td>\n",
       "    </tr>\n",
       "    <tr>\n",
       "      <th>3</th>\n",
       "      <td>Age</td>\n",
       "      <td>int64</td>\n",
       "      <td>0</td>\n",
       "      <td>0.00</td>\n",
       "      <td>67</td>\n",
       "      <td>[22, 38, 67, 40, 56]</td>\n",
       "    </tr>\n",
       "    <tr>\n",
       "      <th>4</th>\n",
       "      <td>Graduated</td>\n",
       "      <td>object</td>\n",
       "      <td>78</td>\n",
       "      <td>0.97</td>\n",
       "      <td>2</td>\n",
       "      <td>[No, Yes, nan]</td>\n",
       "    </tr>\n",
       "    <tr>\n",
       "      <th>5</th>\n",
       "      <td>Profession</td>\n",
       "      <td>object</td>\n",
       "      <td>124</td>\n",
       "      <td>1.54</td>\n",
       "      <td>9</td>\n",
       "      <td>[Healthcare, Engineer, Lawyer, Entertainment, ...</td>\n",
       "    </tr>\n",
       "    <tr>\n",
       "      <th>6</th>\n",
       "      <td>Work_Experience</td>\n",
       "      <td>float64</td>\n",
       "      <td>829</td>\n",
       "      <td>10.28</td>\n",
       "      <td>15</td>\n",
       "      <td>[1.0, nan, 0.0, 4.0, 9.0]</td>\n",
       "    </tr>\n",
       "    <tr>\n",
       "      <th>7</th>\n",
       "      <td>Spending_Score</td>\n",
       "      <td>object</td>\n",
       "      <td>0</td>\n",
       "      <td>0.00</td>\n",
       "      <td>3</td>\n",
       "      <td>[Low, Average, High]</td>\n",
       "    </tr>\n",
       "    <tr>\n",
       "      <th>8</th>\n",
       "      <td>Family_Size</td>\n",
       "      <td>float64</td>\n",
       "      <td>335</td>\n",
       "      <td>4.15</td>\n",
       "      <td>9</td>\n",
       "      <td>[4.0, 3.0, 1.0, 2.0, 6.0]</td>\n",
       "    </tr>\n",
       "    <tr>\n",
       "      <th>9</th>\n",
       "      <td>Var_1</td>\n",
       "      <td>object</td>\n",
       "      <td>76</td>\n",
       "      <td>0.94</td>\n",
       "      <td>7</td>\n",
       "      <td>[Cat_4, Cat_6, Cat_7, Cat_3, Cat_1]</td>\n",
       "    </tr>\n",
       "    <tr>\n",
       "      <th>10</th>\n",
       "      <td>Segmentation</td>\n",
       "      <td>object</td>\n",
       "      <td>0</td>\n",
       "      <td>0.00</td>\n",
       "      <td>4</td>\n",
       "      <td>[D, A, B, C]</td>\n",
       "    </tr>\n",
       "  </tbody>\n",
       "</table>\n",
       "</div>"
      ],
      "text/plain": [
       "       dataFeatures dataType  null  nullPct  unique  \\\n",
       "0                ID    int64     0     0.00    8068   \n",
       "1            Gender   object     0     0.00       2   \n",
       "2      Ever_Married   object   140     1.74       2   \n",
       "3               Age    int64     0     0.00      67   \n",
       "4         Graduated   object    78     0.97       2   \n",
       "5        Profession   object   124     1.54       9   \n",
       "6   Work_Experience  float64   829    10.28      15   \n",
       "7    Spending_Score   object     0     0.00       3   \n",
       "8       Family_Size  float64   335     4.15       9   \n",
       "9             Var_1   object    76     0.94       7   \n",
       "10     Segmentation   object     0     0.00       4   \n",
       "\n",
       "                                         uniqueSample  \n",
       "0            [462809, 462643, 466315, 461735, 462669]  \n",
       "1                                      [Male, Female]  \n",
       "2                                      [No, Yes, nan]  \n",
       "3                                [22, 38, 67, 40, 56]  \n",
       "4                                      [No, Yes, nan]  \n",
       "5   [Healthcare, Engineer, Lawyer, Entertainment, ...  \n",
       "6                           [1.0, nan, 0.0, 4.0, 9.0]  \n",
       "7                                [Low, Average, High]  \n",
       "8                           [4.0, 3.0, 1.0, 2.0, 6.0]  \n",
       "9                 [Cat_4, Cat_6, Cat_7, Cat_3, Cat_1]  \n",
       "10                                       [D, A, B, C]  "
      ]
     },
     "execution_count": 9,
     "metadata": {},
     "output_type": "execute_result"
    }
   ],
   "source": [
    "describeDF(dfTr)"
   ]
  },
  {
   "cell_type": "code",
   "execution_count": 10,
   "metadata": {},
   "outputs": [
    {
     "data": {
      "text/html": [
       "<div>\n",
       "<style scoped>\n",
       "    .dataframe tbody tr th:only-of-type {\n",
       "        vertical-align: middle;\n",
       "    }\n",
       "\n",
       "    .dataframe tbody tr th {\n",
       "        vertical-align: top;\n",
       "    }\n",
       "\n",
       "    .dataframe thead th {\n",
       "        text-align: right;\n",
       "    }\n",
       "</style>\n",
       "<table border=\"1\" class=\"dataframe\">\n",
       "  <thead>\n",
       "    <tr style=\"text-align: right;\">\n",
       "      <th></th>\n",
       "      <th>count</th>\n",
       "      <th>mean</th>\n",
       "      <th>std</th>\n",
       "      <th>min</th>\n",
       "      <th>25%</th>\n",
       "      <th>50%</th>\n",
       "      <th>75%</th>\n",
       "      <th>max</th>\n",
       "    </tr>\n",
       "  </thead>\n",
       "  <tbody>\n",
       "    <tr>\n",
       "      <th>ID</th>\n",
       "      <td>8068.0</td>\n",
       "      <td>463479.214551</td>\n",
       "      <td>2595.381232</td>\n",
       "      <td>458982.0</td>\n",
       "      <td>461240.75</td>\n",
       "      <td>463472.5</td>\n",
       "      <td>465744.25</td>\n",
       "      <td>467974.0</td>\n",
       "    </tr>\n",
       "    <tr>\n",
       "      <th>Age</th>\n",
       "      <td>8068.0</td>\n",
       "      <td>43.466906</td>\n",
       "      <td>16.711696</td>\n",
       "      <td>18.0</td>\n",
       "      <td>30.00</td>\n",
       "      <td>40.0</td>\n",
       "      <td>53.00</td>\n",
       "      <td>89.0</td>\n",
       "    </tr>\n",
       "    <tr>\n",
       "      <th>Work_Experience</th>\n",
       "      <td>7239.0</td>\n",
       "      <td>2.641663</td>\n",
       "      <td>3.406763</td>\n",
       "      <td>0.0</td>\n",
       "      <td>0.00</td>\n",
       "      <td>1.0</td>\n",
       "      <td>4.00</td>\n",
       "      <td>14.0</td>\n",
       "    </tr>\n",
       "    <tr>\n",
       "      <th>Family_Size</th>\n",
       "      <td>7733.0</td>\n",
       "      <td>2.850123</td>\n",
       "      <td>1.531413</td>\n",
       "      <td>1.0</td>\n",
       "      <td>2.00</td>\n",
       "      <td>3.0</td>\n",
       "      <td>4.00</td>\n",
       "      <td>9.0</td>\n",
       "    </tr>\n",
       "  </tbody>\n",
       "</table>\n",
       "</div>"
      ],
      "text/plain": [
       "                  count           mean          std       min        25%  \\\n",
       "ID               8068.0  463479.214551  2595.381232  458982.0  461240.75   \n",
       "Age              8068.0      43.466906    16.711696      18.0      30.00   \n",
       "Work_Experience  7239.0       2.641663     3.406763       0.0       0.00   \n",
       "Family_Size      7733.0       2.850123     1.531413       1.0       2.00   \n",
       "\n",
       "                      50%        75%       max  \n",
       "ID               463472.5  465744.25  467974.0  \n",
       "Age                  40.0      53.00      89.0  \n",
       "Work_Experience       1.0       4.00      14.0  \n",
       "Family_Size           3.0       4.00       9.0  "
      ]
     },
     "execution_count": 10,
     "metadata": {},
     "output_type": "execute_result"
    }
   ],
   "source": [
    "dfTr.describe().T"
   ]
  },
  {
   "cell_type": "markdown",
   "metadata": {},
   "source": [
    "Comments:\n",
    "\n",
    "- There are a very high percentage of null value (10.28%) in Work_Experience which might affect the model later on. This is perhaps due to the unwillingness of customer to state their job, or they are still looking for a steady job.\n",
    "- Family_Size has 4.15 % of null value, meaning that some user prefer to keep their privacy.\n",
    "- Ever_Married, Profession, Graduated and Var_1 both have less than 2% of null value.\n",
    "- Must consider what to do with the null value, since it might affect the model performance.\n",
    "\n",
    "__more comments on the statistic distribution__"
   ]
  },
  {
   "cell_type": "markdown",
   "metadata": {},
   "source": [
    "__c.2. Test Dataframe__"
   ]
  },
  {
   "cell_type": "code",
   "execution_count": 11,
   "metadata": {},
   "outputs": [
    {
     "data": {
      "text/html": [
       "<div>\n",
       "<style scoped>\n",
       "    .dataframe tbody tr th:only-of-type {\n",
       "        vertical-align: middle;\n",
       "    }\n",
       "\n",
       "    .dataframe tbody tr th {\n",
       "        vertical-align: top;\n",
       "    }\n",
       "\n",
       "    .dataframe thead th {\n",
       "        text-align: right;\n",
       "    }\n",
       "</style>\n",
       "<table border=\"1\" class=\"dataframe\">\n",
       "  <thead>\n",
       "    <tr style=\"text-align: right;\">\n",
       "      <th></th>\n",
       "      <th>dataFeatures</th>\n",
       "      <th>dataType</th>\n",
       "      <th>null</th>\n",
       "      <th>nullPct</th>\n",
       "      <th>unique</th>\n",
       "      <th>uniqueSample</th>\n",
       "    </tr>\n",
       "  </thead>\n",
       "  <tbody>\n",
       "    <tr>\n",
       "      <th>0</th>\n",
       "      <td>ID</td>\n",
       "      <td>int64</td>\n",
       "      <td>0</td>\n",
       "      <td>0.00</td>\n",
       "      <td>2627</td>\n",
       "      <td>[458989, 458994, 458996, 459000, 459001]</td>\n",
       "    </tr>\n",
       "    <tr>\n",
       "      <th>1</th>\n",
       "      <td>Gender</td>\n",
       "      <td>object</td>\n",
       "      <td>0</td>\n",
       "      <td>0.00</td>\n",
       "      <td>2</td>\n",
       "      <td>[Female, Male]</td>\n",
       "    </tr>\n",
       "    <tr>\n",
       "      <th>2</th>\n",
       "      <td>Ever_Married</td>\n",
       "      <td>object</td>\n",
       "      <td>50</td>\n",
       "      <td>1.90</td>\n",
       "      <td>2</td>\n",
       "      <td>[Yes, No, nan]</td>\n",
       "    </tr>\n",
       "    <tr>\n",
       "      <th>3</th>\n",
       "      <td>Age</td>\n",
       "      <td>int64</td>\n",
       "      <td>0</td>\n",
       "      <td>0.00</td>\n",
       "      <td>67</td>\n",
       "      <td>[36, 37, 69, 59, 19]</td>\n",
       "    </tr>\n",
       "    <tr>\n",
       "      <th>4</th>\n",
       "      <td>Graduated</td>\n",
       "      <td>object</td>\n",
       "      <td>24</td>\n",
       "      <td>0.91</td>\n",
       "      <td>2</td>\n",
       "      <td>[Yes, No, nan]</td>\n",
       "    </tr>\n",
       "    <tr>\n",
       "      <th>5</th>\n",
       "      <td>Profession</td>\n",
       "      <td>object</td>\n",
       "      <td>38</td>\n",
       "      <td>1.45</td>\n",
       "      <td>9</td>\n",
       "      <td>[Engineer, Healthcare, nan, Executive, Marketing]</td>\n",
       "    </tr>\n",
       "    <tr>\n",
       "      <th>6</th>\n",
       "      <td>Work_Experience</td>\n",
       "      <td>float64</td>\n",
       "      <td>269</td>\n",
       "      <td>10.24</td>\n",
       "      <td>15</td>\n",
       "      <td>[0.0, 8.0, 11.0, nan, 5.0]</td>\n",
       "    </tr>\n",
       "    <tr>\n",
       "      <th>7</th>\n",
       "      <td>Spending_Score</td>\n",
       "      <td>object</td>\n",
       "      <td>0</td>\n",
       "      <td>0.00</td>\n",
       "      <td>3</td>\n",
       "      <td>[Low, Average, High]</td>\n",
       "    </tr>\n",
       "    <tr>\n",
       "      <th>8</th>\n",
       "      <td>Family_Size</td>\n",
       "      <td>float64</td>\n",
       "      <td>113</td>\n",
       "      <td>4.30</td>\n",
       "      <td>9</td>\n",
       "      <td>[1.0, 4.0, 2.0, 5.0, 3.0]</td>\n",
       "    </tr>\n",
       "    <tr>\n",
       "      <th>9</th>\n",
       "      <td>Var_1</td>\n",
       "      <td>object</td>\n",
       "      <td>32</td>\n",
       "      <td>1.22</td>\n",
       "      <td>7</td>\n",
       "      <td>[Cat_6, Cat_4, Cat_3, nan, Cat_1]</td>\n",
       "    </tr>\n",
       "  </tbody>\n",
       "</table>\n",
       "</div>"
      ],
      "text/plain": [
       "      dataFeatures dataType  null  nullPct  unique  \\\n",
       "0               ID    int64     0     0.00    2627   \n",
       "1           Gender   object     0     0.00       2   \n",
       "2     Ever_Married   object    50     1.90       2   \n",
       "3              Age    int64     0     0.00      67   \n",
       "4        Graduated   object    24     0.91       2   \n",
       "5       Profession   object    38     1.45       9   \n",
       "6  Work_Experience  float64   269    10.24      15   \n",
       "7   Spending_Score   object     0     0.00       3   \n",
       "8      Family_Size  float64   113     4.30       9   \n",
       "9            Var_1   object    32     1.22       7   \n",
       "\n",
       "                                        uniqueSample  \n",
       "0           [458989, 458994, 458996, 459000, 459001]  \n",
       "1                                     [Female, Male]  \n",
       "2                                     [Yes, No, nan]  \n",
       "3                               [36, 37, 69, 59, 19]  \n",
       "4                                     [Yes, No, nan]  \n",
       "5  [Engineer, Healthcare, nan, Executive, Marketing]  \n",
       "6                         [0.0, 8.0, 11.0, nan, 5.0]  \n",
       "7                               [Low, Average, High]  \n",
       "8                          [1.0, 4.0, 2.0, 5.0, 3.0]  \n",
       "9                  [Cat_6, Cat_4, Cat_3, nan, Cat_1]  "
      ]
     },
     "execution_count": 11,
     "metadata": {},
     "output_type": "execute_result"
    }
   ],
   "source": [
    "describeDF(dfTs)"
   ]
  },
  {
   "cell_type": "code",
   "execution_count": 12,
   "metadata": {},
   "outputs": [
    {
     "data": {
      "text/html": [
       "<div>\n",
       "<style scoped>\n",
       "    .dataframe tbody tr th:only-of-type {\n",
       "        vertical-align: middle;\n",
       "    }\n",
       "\n",
       "    .dataframe tbody tr th {\n",
       "        vertical-align: top;\n",
       "    }\n",
       "\n",
       "    .dataframe thead th {\n",
       "        text-align: right;\n",
       "    }\n",
       "</style>\n",
       "<table border=\"1\" class=\"dataframe\">\n",
       "  <thead>\n",
       "    <tr style=\"text-align: right;\">\n",
       "      <th></th>\n",
       "      <th>count</th>\n",
       "      <th>mean</th>\n",
       "      <th>std</th>\n",
       "      <th>min</th>\n",
       "      <th>25%</th>\n",
       "      <th>50%</th>\n",
       "      <th>75%</th>\n",
       "      <th>max</th>\n",
       "    </tr>\n",
       "  </thead>\n",
       "  <tbody>\n",
       "    <tr>\n",
       "      <th>ID</th>\n",
       "      <td>2627.0</td>\n",
       "      <td>463433.918919</td>\n",
       "      <td>2618.245698</td>\n",
       "      <td>458989.0</td>\n",
       "      <td>461162.5</td>\n",
       "      <td>463379.0</td>\n",
       "      <td>465696.0</td>\n",
       "      <td>467968.0</td>\n",
       "    </tr>\n",
       "    <tr>\n",
       "      <th>Age</th>\n",
       "      <td>2627.0</td>\n",
       "      <td>43.649791</td>\n",
       "      <td>16.967015</td>\n",
       "      <td>18.0</td>\n",
       "      <td>30.0</td>\n",
       "      <td>41.0</td>\n",
       "      <td>53.0</td>\n",
       "      <td>89.0</td>\n",
       "    </tr>\n",
       "    <tr>\n",
       "      <th>Work_Experience</th>\n",
       "      <td>2358.0</td>\n",
       "      <td>2.552587</td>\n",
       "      <td>3.341094</td>\n",
       "      <td>0.0</td>\n",
       "      <td>0.0</td>\n",
       "      <td>1.0</td>\n",
       "      <td>4.0</td>\n",
       "      <td>14.0</td>\n",
       "    </tr>\n",
       "    <tr>\n",
       "      <th>Family_Size</th>\n",
       "      <td>2514.0</td>\n",
       "      <td>2.825378</td>\n",
       "      <td>1.551906</td>\n",
       "      <td>1.0</td>\n",
       "      <td>2.0</td>\n",
       "      <td>2.0</td>\n",
       "      <td>4.0</td>\n",
       "      <td>9.0</td>\n",
       "    </tr>\n",
       "  </tbody>\n",
       "</table>\n",
       "</div>"
      ],
      "text/plain": [
       "                  count           mean          std       min       25%  \\\n",
       "ID               2627.0  463433.918919  2618.245698  458989.0  461162.5   \n",
       "Age              2627.0      43.649791    16.967015      18.0      30.0   \n",
       "Work_Experience  2358.0       2.552587     3.341094       0.0       0.0   \n",
       "Family_Size      2514.0       2.825378     1.551906       1.0       2.0   \n",
       "\n",
       "                      50%       75%       max  \n",
       "ID               463379.0  465696.0  467968.0  \n",
       "Age                  41.0      53.0      89.0  \n",
       "Work_Experience       1.0       4.0      14.0  \n",
       "Family_Size           2.0       4.0       9.0  "
      ]
     },
     "execution_count": 12,
     "metadata": {},
     "output_type": "execute_result"
    }
   ],
   "source": [
    "dfTs.describe().T"
   ]
  },
  {
   "cell_type": "markdown",
   "metadata": {},
   "source": [
    "Comments:\n",
    "- The test data is also filled with most null data in Work_Experience, which means this might be quite an important feature in determining the Segmentation.\n",
    "- Overall, the features with most null values are also similar with the train data."
   ]
  },
  {
   "cell_type": "markdown",
   "metadata": {},
   "source": [
    "### __2. Exploratory Data Analysis (EDA)__"
   ]
  },
  {
   "cell_type": "markdown",
   "metadata": {},
   "source": [
    "__a. Data Visualization__"
   ]
  },
  {
   "cell_type": "markdown",
   "metadata": {},
   "source": [
    "Based on the high percentage of null values in Train Data, columns that contain null values in order are as follow (including the datatypes):\n",
    "\n",
    "1. Work_Experience - 10.28% - float64\n",
    "2. Family_Size - 4.15% - float64\n",
    "3. Ever_Married - 1.74% - object\n",
    "4. Profession - 1.54% - object\n",
    "5. Graduated - 0.97% - object\n",
    "6. Var_1 - 0.94% - object\n",
    "\n",
    "- The top 2 null percentages are numerical data, whereas the others are categorical data.\n",
    "\n",
    "- Although the percentages are different within the Test Data, the patterns are quite similar. So, let's explore these data first to figure out what methods will be used to handle the null values."
   ]
  },
  {
   "cell_type": "code",
   "execution_count": 53,
   "metadata": {
    "collapsed": true,
    "jupyter": {
     "outputs_hidden": true
    }
   },
   "outputs": [
    {
     "data": {
      "text/plain": [
       "0    4\n",
       "1    1\n",
       "2    2\n",
       "3    2\n",
       "4    1\n",
       "Name: Segmentation, dtype: int64"
      ]
     },
     "execution_count": 53,
     "metadata": {},
     "output_type": "execute_result"
    }
   ],
   "source": [
    "# Duplicate Train Data to Modify without changing the initial value\n",
    "\n",
    "trMod = dfTr.copy(deep=True)\n",
    "trMod['Segmentation'] = trMod['Segmentation'].apply(lambda val: 1 if val=='A' else(2 if val=='B' else(3 if val=='C' else 4)))\n",
    "trMod.Segmentation.head()"
   ]
  },
  {
   "cell_type": "code",
   "execution_count": 69,
   "metadata": {},
   "outputs": [
    {
     "data": {
      "text/plain": [
       "<matplotlib.axes._subplots.AxesSubplot at 0x1a22337940>"
      ]
     },
     "execution_count": 69,
     "metadata": {},
     "output_type": "execute_result"
    },
    {
     "data": {
      "image/png": "[encoded data removed]",
      "text/plain": [
       "<Figure size 1152x576 with 4 Axes>"
      ]
     },
     "metadata": {
      "needs_background": "light"
     },
     "output_type": "display_data"
    }
   ],
   "source": [
    "plt.figure(figsize=(16,8))\n",
    "\n",
    "plt.subplot(2,2,1)\n",
    "sns.kdeplot(trMod[trMod['Segmentation'] == 1]['Work_Experience'].dropna(), label = 'A')\n",
    "sns.kdeplot(trMod[trMod['Segmentation'] == 2]['Work_Experience'].dropna(), label = 'B')\n",
    "sns.kdeplot(trMod[trMod['Segmentation'] == 3]['Work_Experience'].dropna(), label = 'C')\n",
    "sns.kdeplot(trMod[trMod['Segmentation'] == 4]['Work_Experience'].dropna(), label = 'D')\n",
    "plt.grid(True)\n",
    "\n",
    "plt.subplot(2,2,2)\n",
    "sns.kdeplot(trMod[trMod['Segmentation'] == 1]['Family_Size'].dropna(), label = 'A')\n",
    "sns.kdeplot(trMod[trMod['Segmentation'] == 2]['Family_Size'].dropna(), label = 'B')\n",
    "sns.kdeplot(trMod[trMod['Segmentation'] == 3]['Family_Size'].dropna(), label = 'C')\n",
    "sns.kdeplot(trMod[trMod['Segmentation'] == 4]['Family_Size'].dropna(), label = 'D')\n",
    "plt.grid(True)\n",
    "\n",
    "\n",
    "plt.subplot(2,2,3)\n",
    "sns.countplot(trMod['Work_Experience'].dropna())\n",
    "\n",
    "plt.subplot(2,2,4)\n",
    "sns.countplot(trMod['Family_Size'])"
   ]
  },
  {
   "cell_type": "markdown",
   "metadata": {},
   "source": [
    "- On the plot for Work_Experience, it can be seen that the patterns are quite similar between each Segmentation. The peak can be seen the most within the 0 and 1 value, then it is constant until the value 8 and 9. From 10 to the rest, is quite a low count.\n",
    "\n",
    "- In Family_Size plot, it can be seen that Segmentation C has the lowest user number in Family_Size of 1 compare to the other Segmentations. However, in the highest frequency of Family_Size which is 2, it can be seen that Segmentation C has the most user. A high frequency of Segmentation A seems to be found in Family Size of 1, whereas it's the lowest in Family_Size of 4. \n",
    "\n",
    "- From this, we can conclude that perhaps the feature Family_Size has a certain influence towards the Segmentations. Whereas the Work_Experience doesn't contribute as significant as Family_Size. However, we must evaluate more to confirm this hypothesis."
   ]
  },
  {
   "cell_type": "code",
   "execution_count": 70,
   "metadata": {},
   "outputs": [
    {
     "data": {
      "text/plain": [
       "<matplotlib.axes._subplots.AxesSubplot at 0x1a224cf9b0>"
      ]
     },
     "execution_count": 70,
     "metadata": {},
     "output_type": "execute_result"
    },
    {
     "data": {
      "image/png": "[encoded data removed]",
      "text/plain": [
       "<Figure size 432x288 with 2 Axes>"
      ]
     },
     "metadata": {
      "needs_background": "light"
     },
     "output_type": "display_data"
    }
   ],
   "source": [
    "sns.heatmap(trMod.corr(), annot=True)"
   ]
  },
  {
   "cell_type": "code",
   "execution_count": 96,
   "metadata": {},
   "outputs": [
    {
     "data": {
      "text/plain": [
       "<matplotlib.axes._subplots.AxesSubplot at 0x1a23206828>"
      ]
     },
     "execution_count": 96,
     "metadata": {},
     "output_type": "execute_result"
    },
    {
     "data": {
      "image/png": "[encoded data removed]",
      "text/plain": [
       "<Figure size 1152x576 with 4 Axes>"
      ]
     },
     "metadata": {
      "needs_background": "light"
     },
     "output_type": "display_data"
    }
   ],
   "source": [
    "plt.figure(figsize=(16,8))\n",
    "\n",
    "plt.subplot(2,2,1)\n",
    "sns.countplot(trMod['Ever_Married'].dropna())\n",
    "\n",
    "plt.subplot(2,2,2)\n",
    "sns.countplot(trMod['Profession'].dropna())\n",
    "\n",
    "plt.subplot(2,2,3)\n",
    "sns.countplot(trMod['Graduated'].dropna())\n",
    "\n",
    "plt.subplot(2,2,4)\n",
    "sns.countplot(trMod['Var_1'].dropna())"
   ]
  },
  {
   "cell_type": "code",
   "execution_count": 130,
   "metadata": {},
   "outputs": [
    {
     "data": {
      "image/png": "[encoded data removed]",
      "text/plain": [
       "<Figure size 916.15x595.44 with 1 Axes>"
      ]
     },
     "metadata": {
      "needs_background": "light"
     },
     "output_type": "display_data"
    }
   ],
   "source": [
    "# plt.figure(figsize=(16,8))\n",
    "\n",
    "g = sns.catplot(y=\"Segmentation\", hue=\"Ever_Married\", kind=\"count\",\n",
    "            palette =\"Set2\", data=trMod, \n",
    "            height=8.27, aspect=11.7/8.27)\n",
    "\n",
    "plt.title('Distribution of Segmentations in Terms of Marriage')\n",
    "plt.xlabel(\"Frequency\")\n",
    "\n",
    "total = len(trMod[\"Segmentation\"])\n",
    "for ax in g.axes.ravel():\n",
    "    for p in ax.patches:\n",
    "        percentage = '{:.1f}%'.format(100 * p.get_width()/total)\n",
    "        x = p.get_x() + p.get_width() + 0.04\n",
    "        y = p.get_y() + p.get_height()/2\n",
    "        ax.annotate(percentage, (x, y))\n",
    "plt.grid(True)"
   ]
  },
  {
   "cell_type": "code",
   "execution_count": null,
   "metadata": {},
   "outputs": [],
   "source": []
  },
  {
   "cell_type": "code",
   "execution_count": null,
   "metadata": {},
   "outputs": [],
   "source": []
  },
  {
   "cell_type": "code",
   "execution_count": null,
   "metadata": {},
   "outputs": [],
   "source": []
  },
  {
   "cell_type": "code",
   "execution_count": null,
   "metadata": {},
   "outputs": [],
   "source": []
  },
  {
   "cell_type": "code",
   "execution_count": 13,
   "metadata": {},
   "outputs": [
    {
     "data": {
      "text/plain": [
       "Artist           2516\n",
       "Healthcare       1332\n",
       "Entertainment     949\n",
       "Engineer          699\n",
       "Doctor            688\n",
       "Lawyer            623\n",
       "Executive         599\n",
       "Marketing         292\n",
       "Homemaker         246\n",
       "Name: Profession, dtype: int64"
      ]
     },
     "execution_count": 13,
     "metadata": {},
     "output_type": "execute_result"
    }
   ],
   "source": [
    "dfTr['Profession'].value_counts()"
   ]
  },
  {
   "cell_type": "code",
   "execution_count": 14,
   "metadata": {},
   "outputs": [
    {
     "data": {
      "text/plain": [
       "2.0    2390\n",
       "3.0    1497\n",
       "1.0    1453\n",
       "4.0    1379\n",
       "5.0     612\n",
       "6.0     212\n",
       "7.0      96\n",
       "8.0      50\n",
       "9.0      44\n",
       "Name: Family_Size, dtype: int64"
      ]
     },
     "execution_count": 14,
     "metadata": {},
     "output_type": "execute_result"
    }
   ],
   "source": [
    "dfTr['Family_Size'].value_counts()"
   ]
  },
  {
   "cell_type": "code",
   "execution_count": 15,
   "metadata": {},
   "outputs": [
    {
     "data": {
      "text/plain": [
       "Segmentation  Profession   \n",
       "A             Artist            558\n",
       "              Entertainment     365\n",
       "              Engineer          259\n",
       "              Doctor            199\n",
       "              Lawyer            197\n",
       "              Executive         125\n",
       "              Healthcare        106\n",
       "              Homemaker          73\n",
       "              Marketing          57\n",
       "B             Artist            756\n",
       "              Entertainment     221\n",
       "              Engineer          189\n",
       "              Executive         183\n",
       "              Lawyer            158\n",
       "              Doctor            143\n",
       "              Healthcare        101\n",
       "              Homemaker          55\n",
       "              Marketing          30\n",
       "C             Artist           1065\n",
       "              Executive         175\n",
       "              Entertainment     148\n",
       "              Healthcare        146\n",
       "              Doctor            140\n",
       "              Lawyer            140\n",
       "              Engineer           75\n",
       "              Marketing          35\n",
       "              Homemaker          28\n",
       "D             Healthcare        979\n",
       "              Entertainment     215\n",
       "              Doctor            206\n",
       "              Engineer          176\n",
       "              Marketing         170\n",
       "              Artist            137\n",
       "              Lawyer            128\n",
       "              Executive         116\n",
       "              Homemaker          90\n",
       "Name: Profession, dtype: int64"
      ]
     },
     "execution_count": 15,
     "metadata": {},
     "output_type": "execute_result"
    }
   ],
   "source": [
    "dfTr.groupby('Segmentation')['Profession'].value_counts()\n",
    "\n",
    "# Need to create chart to see the patterns"
   ]
  },
  {
   "cell_type": "markdown",
   "metadata": {},
   "source": [
    "Check spending score di segmentation apa, dll."
   ]
  },
  {
   "cell_type": "code",
   "execution_count": 16,
   "metadata": {},
   "outputs": [
    {
     "data": {
      "text/plain": [
       "Segmentation  Spending_Score\n",
       "A             Low               1358\n",
       "              Average            343\n",
       "              High               271\n",
       "B             Low                884\n",
       "              Average            590\n",
       "              High               384\n",
       "C             Average            903\n",
       "              Low                662\n",
       "              High               405\n",
       "D             Low               1974\n",
       "              High               156\n",
       "              Average            138\n",
       "Name: Spending_Score, dtype: int64"
      ]
     },
     "execution_count": 16,
     "metadata": {},
     "output_type": "execute_result"
    }
   ],
   "source": [
    "dfTr.groupby('Segmentation')['Spending_Score'].value_counts()"
   ]
  },
  {
   "cell_type": "code",
   "execution_count": 21,
   "metadata": {
    "collapsed": true,
    "jupyter": {
     "outputs_hidden": true
    }
   },
   "outputs": [
    {
     "data": {
      "text/plain": [
       "(2627, 20)"
      ]
     },
     "execution_count": 21,
     "metadata": {},
     "output_type": "execute_result"
    }
   ],
   "source": [
    "# Testing merging dataframes based on ID\n",
    "\n",
    "dfAll = pd.merge(dfTs, dfTr, how='left', on='ID')\n",
    "dfAll.shape"
   ]
  },
  {
   "cell_type": "code",
   "execution_count": null,
   "metadata": {},
   "outputs": [],
   "source": []
  }
 ],
 "metadata": {
  "kernelspec": {
   "display_name": "Python 3",
   "language": "python",
   "name": "python3"
  },
  "language_info": {
   "codemirror_mode": {
    "name": "ipython",
    "version": 3
   },
   "file_extension": ".py",
   "mimetype": "text/x-python",
   "name": "python",
   "nbconvert_exporter": "python",
   "pygments_lexer": "ipython3",
   "version": "3.7.3"
  }
 },
 "nbformat": 4,
 "nbformat_minor": 4
}
