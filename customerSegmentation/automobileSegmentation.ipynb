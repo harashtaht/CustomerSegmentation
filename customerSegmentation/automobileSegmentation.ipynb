{
 "cells": [
  {
   "cell_type": "markdown",
   "metadata": {},
   "source": [
    "## Customer Segmentation for Automobile Company"
   ]
  },
  {
   "cell_type": "markdown",
   "metadata": {},
   "source": [
    "<u>Context</u>\n",
    "\n",
    "An automobile company has plans to enter new markets with their existing products (P1, P2, P3, P4 and P5). After intensive market research, they’ve deduced that the behavior of new market is similar to their existing market.\n",
    "\n",
    "<u>Content</u>\n",
    "\n",
    "In their existing market, the sales team has classified all customers into 4 segments (A, B, C, D ). Then, they performed segmented outreach and communication for different segment of customers. This strategy has work exceptionally well for them. They plan to use the same strategy on new markets and have identified 2627 new potential customers.\n",
    "\n",
    "You are required to help the manager to predict the right group of the new customers.\n",
    "\n",
    "Acknowledgements\n",
    "\n",
    "https://datahack.analyticsvidhya.com/contest/janatahack-customer-segmentation/#ProblemStatement\n",
    "\n",
    "Inspiration\n",
    "\n",
    "https://datahack.analyticsvidhya.com/contest/janatahack-customer-segmentation/#ProblemStatement\n",
    "\n",
    "Dataset Source\n",
    "\n",
    "https://www.kaggle.com/vetrirah/customer"
   ]
  },
  {
   "cell_type": "markdown",
   "metadata": {},
   "source": [
    "### __1. Data Preprocessing__ \n",
    "\n",
    "The first step in building the model is to importing Libraries and understanding features within the unprocessed dataset."
   ]
  },
  {
   "cell_type": "code",
   "execution_count": 1,
   "metadata": {},
   "outputs": [],
   "source": [
    "import pandas as pd\n",
    "import seaborn as sns\n",
    "import matplotlib.pyplot as plt\n",
    "import numpy as np\n",
    "%matplotlib inline"
   ]
  },
  {
   "cell_type": "markdown",
   "metadata": {},
   "source": [
    "__a. Sample Submission Data__"
   ]
  },
  {
   "cell_type": "code",
   "execution_count": 2,
   "metadata": {},
   "outputs": [
    {
     "data": {
      "text/html": [
       "<div>\n",
       "<style scoped>\n",
       "    .dataframe tbody tr th:only-of-type {\n",
       "        vertical-align: middle;\n",
       "    }\n",
       "\n",
       "    .dataframe tbody tr th {\n",
       "        vertical-align: top;\n",
       "    }\n",
       "\n",
       "    .dataframe thead th {\n",
       "        text-align: right;\n",
       "    }\n",
       "</style>\n",
       "<table border=\"1\" class=\"dataframe\">\n",
       "  <thead>\n",
       "    <tr style=\"text-align: right;\">\n",
       "      <th></th>\n",
       "      <th>ID</th>\n",
       "      <th>Segmentation</th>\n",
       "    </tr>\n",
       "  </thead>\n",
       "  <tbody>\n",
       "    <tr>\n",
       "      <th>0</th>\n",
       "      <td>458989</td>\n",
       "      <td>A</td>\n",
       "    </tr>\n",
       "    <tr>\n",
       "      <th>1</th>\n",
       "      <td>458994</td>\n",
       "      <td>A</td>\n",
       "    </tr>\n",
       "    <tr>\n",
       "      <th>2</th>\n",
       "      <td>458996</td>\n",
       "      <td>A</td>\n",
       "    </tr>\n",
       "    <tr>\n",
       "      <th>3</th>\n",
       "      <td>459000</td>\n",
       "      <td>A</td>\n",
       "    </tr>\n",
       "    <tr>\n",
       "      <th>4</th>\n",
       "      <td>459001</td>\n",
       "      <td>A</td>\n",
       "    </tr>\n",
       "  </tbody>\n",
       "</table>\n",
       "</div>"
      ],
      "text/plain": [
       "       ID Segmentation\n",
       "0  458989            A\n",
       "1  458994            A\n",
       "2  458996            A\n",
       "3  459000            A\n",
       "4  459001            A"
      ]
     },
     "execution_count": 2,
     "metadata": {},
     "output_type": "execute_result"
    }
   ],
   "source": [
    "df1 = pd.read_csv('./Files/sample_submission.csv')\n",
    "df1.head()"
   ]
  },
  {
   "cell_type": "code",
   "execution_count": 3,
   "metadata": {},
   "outputs": [
    {
     "data": {
      "text/html": [
       "<div>\n",
       "<style scoped>\n",
       "    .dataframe tbody tr th:only-of-type {\n",
       "        vertical-align: middle;\n",
       "    }\n",
       "\n",
       "    .dataframe tbody tr th {\n",
       "        vertical-align: top;\n",
       "    }\n",
       "\n",
       "    .dataframe thead th {\n",
       "        text-align: right;\n",
       "    }\n",
       "</style>\n",
       "<table border=\"1\" class=\"dataframe\">\n",
       "  <thead>\n",
       "    <tr style=\"text-align: right;\">\n",
       "      <th></th>\n",
       "      <th>dataFeatures</th>\n",
       "      <th>dataType</th>\n",
       "      <th>null</th>\n",
       "      <th>nullPct</th>\n",
       "      <th>unique</th>\n",
       "      <th>uniqueSample</th>\n",
       "    </tr>\n",
       "  </thead>\n",
       "  <tbody>\n",
       "    <tr>\n",
       "      <th>0</th>\n",
       "      <td>ID</td>\n",
       "      <td>int64</td>\n",
       "      <td>0</td>\n",
       "      <td>0.0</td>\n",
       "      <td>2627</td>\n",
       "      <td>[458989, 458994, 458996, 459000, 459001]</td>\n",
       "    </tr>\n",
       "    <tr>\n",
       "      <th>1</th>\n",
       "      <td>Segmentation</td>\n",
       "      <td>object</td>\n",
       "      <td>0</td>\n",
       "      <td>0.0</td>\n",
       "      <td>1</td>\n",
       "      <td>[A]</td>\n",
       "    </tr>\n",
       "  </tbody>\n",
       "</table>\n",
       "</div>"
      ],
      "text/plain": [
       "   dataFeatures dataType  null  nullPct  unique  \\\n",
       "0            ID    int64     0      0.0    2627   \n",
       "1  Segmentation   object     0      0.0       1   \n",
       "\n",
       "                               uniqueSample  \n",
       "0  [458989, 458994, 458996, 459000, 459001]  \n",
       "1                                       [A]  "
      ]
     },
     "execution_count": 3,
     "metadata": {},
     "output_type": "execute_result"
    }
   ],
   "source": [
    "listItem = []\n",
    "for col in df1.columns:\n",
    "    listItem.append([col, df1[col].dtype,\n",
    "                   df1[col].isna().sum(),\n",
    "                   round((df1[col].isna().sum()/len(df1[col])) *100, 2),\n",
    "                   df1[col].nunique(), list(df1[col].unique()[:5])]);\n",
    "\n",
    "df1Desc = pd.DataFrame(columns=['dataFeatures', 'dataType', 'null', 'nullPct', 'unique', 'uniqueSample'],\n",
    "                     data=listItem)\n",
    "\n",
    "df1Desc"
   ]
  },
  {
   "cell_type": "code",
   "execution_count": 4,
   "metadata": {},
   "outputs": [
    {
     "data": {
      "text/html": [
       "<div>\n",
       "<style scoped>\n",
       "    .dataframe tbody tr th:only-of-type {\n",
       "        vertical-align: middle;\n",
       "    }\n",
       "\n",
       "    .dataframe tbody tr th {\n",
       "        vertical-align: top;\n",
       "    }\n",
       "\n",
       "    .dataframe thead th {\n",
       "        text-align: right;\n",
       "    }\n",
       "</style>\n",
       "<table border=\"1\" class=\"dataframe\">\n",
       "  <thead>\n",
       "    <tr style=\"text-align: right;\">\n",
       "      <th></th>\n",
       "      <th>count</th>\n",
       "      <th>mean</th>\n",
       "      <th>std</th>\n",
       "      <th>min</th>\n",
       "      <th>25%</th>\n",
       "      <th>50%</th>\n",
       "      <th>75%</th>\n",
       "      <th>max</th>\n",
       "    </tr>\n",
       "  </thead>\n",
       "  <tbody>\n",
       "    <tr>\n",
       "      <th>ID</th>\n",
       "      <td>2627.0</td>\n",
       "      <td>463433.918919</td>\n",
       "      <td>2618.245698</td>\n",
       "      <td>458989.0</td>\n",
       "      <td>461162.5</td>\n",
       "      <td>463379.0</td>\n",
       "      <td>465696.0</td>\n",
       "      <td>467968.0</td>\n",
       "    </tr>\n",
       "  </tbody>\n",
       "</table>\n",
       "</div>"
      ],
      "text/plain": [
       "     count           mean          std       min       25%       50%  \\\n",
       "ID  2627.0  463433.918919  2618.245698  458989.0  461162.5  463379.0   \n",
       "\n",
       "         75%       max  \n",
       "ID  465696.0  467968.0  "
      ]
     },
     "execution_count": 4,
     "metadata": {},
     "output_type": "execute_result"
    }
   ],
   "source": [
    "df1.describe().T"
   ]
  },
  {
   "cell_type": "markdown",
   "metadata": {},
   "source": [
    "__b. Train and Test Data__\n",
    "\n",
    "Columns Explanation:\n",
    "\n",
    "- Work_Experience = customer's work experience in Years.\n",
    "- Graduated = indication whether the customer has graduated.\n",
    "- Family_Size = Number of family members including the customer.\n",
    "- Spending_Score = Spending score of the customer.\n",
    "- Var_1 = Anonymised Category for the customer.\n",
    "- Segmentation = (target) Customer Segment of the Customer."
   ]
  },
  {
   "cell_type": "markdown",
   "metadata": {},
   "source": [
    "Dataframe preparation"
   ]
  },
  {
   "cell_type": "code",
   "execution_count": 5,
   "metadata": {},
   "outputs": [
    {
     "data": {
      "text/html": [
       "<div>\n",
       "<style scoped>\n",
       "    .dataframe tbody tr th:only-of-type {\n",
       "        vertical-align: middle;\n",
       "    }\n",
       "\n",
       "    .dataframe tbody tr th {\n",
       "        vertical-align: top;\n",
       "    }\n",
       "\n",
       "    .dataframe thead th {\n",
       "        text-align: right;\n",
       "    }\n",
       "</style>\n",
       "<table border=\"1\" class=\"dataframe\">\n",
       "  <thead>\n",
       "    <tr style=\"text-align: right;\">\n",
       "      <th></th>\n",
       "      <th>ID</th>\n",
       "      <th>Gender</th>\n",
       "      <th>Ever_Married</th>\n",
       "      <th>Age</th>\n",
       "      <th>Graduated</th>\n",
       "      <th>Profession</th>\n",
       "      <th>Work_Experience</th>\n",
       "      <th>Spending_Score</th>\n",
       "      <th>Family_Size</th>\n",
       "      <th>Var_1</th>\n",
       "      <th>Segmentation</th>\n",
       "    </tr>\n",
       "  </thead>\n",
       "  <tbody>\n",
       "    <tr>\n",
       "      <th>0</th>\n",
       "      <td>462809</td>\n",
       "      <td>Male</td>\n",
       "      <td>No</td>\n",
       "      <td>22</td>\n",
       "      <td>No</td>\n",
       "      <td>Healthcare</td>\n",
       "      <td>1.0</td>\n",
       "      <td>Low</td>\n",
       "      <td>4.0</td>\n",
       "      <td>Cat_4</td>\n",
       "      <td>D</td>\n",
       "    </tr>\n",
       "    <tr>\n",
       "      <th>1</th>\n",
       "      <td>462643</td>\n",
       "      <td>Female</td>\n",
       "      <td>Yes</td>\n",
       "      <td>38</td>\n",
       "      <td>Yes</td>\n",
       "      <td>Engineer</td>\n",
       "      <td>NaN</td>\n",
       "      <td>Average</td>\n",
       "      <td>3.0</td>\n",
       "      <td>Cat_4</td>\n",
       "      <td>A</td>\n",
       "    </tr>\n",
       "    <tr>\n",
       "      <th>2</th>\n",
       "      <td>466315</td>\n",
       "      <td>Female</td>\n",
       "      <td>Yes</td>\n",
       "      <td>67</td>\n",
       "      <td>Yes</td>\n",
       "      <td>Engineer</td>\n",
       "      <td>1.0</td>\n",
       "      <td>Low</td>\n",
       "      <td>1.0</td>\n",
       "      <td>Cat_6</td>\n",
       "      <td>B</td>\n",
       "    </tr>\n",
       "    <tr>\n",
       "      <th>3</th>\n",
       "      <td>461735</td>\n",
       "      <td>Male</td>\n",
       "      <td>Yes</td>\n",
       "      <td>67</td>\n",
       "      <td>Yes</td>\n",
       "      <td>Lawyer</td>\n",
       "      <td>0.0</td>\n",
       "      <td>High</td>\n",
       "      <td>2.0</td>\n",
       "      <td>Cat_6</td>\n",
       "      <td>B</td>\n",
       "    </tr>\n",
       "    <tr>\n",
       "      <th>4</th>\n",
       "      <td>462669</td>\n",
       "      <td>Female</td>\n",
       "      <td>Yes</td>\n",
       "      <td>40</td>\n",
       "      <td>Yes</td>\n",
       "      <td>Entertainment</td>\n",
       "      <td>NaN</td>\n",
       "      <td>High</td>\n",
       "      <td>6.0</td>\n",
       "      <td>Cat_6</td>\n",
       "      <td>A</td>\n",
       "    </tr>\n",
       "  </tbody>\n",
       "</table>\n",
       "</div>"
      ],
      "text/plain": [
       "       ID  Gender Ever_Married  Age Graduated     Profession  Work_Experience  \\\n",
       "0  462809    Male           No   22        No     Healthcare              1.0   \n",
       "1  462643  Female          Yes   38       Yes       Engineer              NaN   \n",
       "2  466315  Female          Yes   67       Yes       Engineer              1.0   \n",
       "3  461735    Male          Yes   67       Yes         Lawyer              0.0   \n",
       "4  462669  Female          Yes   40       Yes  Entertainment              NaN   \n",
       "\n",
       "  Spending_Score  Family_Size  Var_1 Segmentation  \n",
       "0            Low          4.0  Cat_4            D  \n",
       "1        Average          3.0  Cat_4            A  \n",
       "2            Low          1.0  Cat_6            B  \n",
       "3           High          2.0  Cat_6            B  \n",
       "4           High          6.0  Cat_6            A  "
      ]
     },
     "execution_count": 5,
     "metadata": {},
     "output_type": "execute_result"
    }
   ],
   "source": [
    "dfTr = pd.read_csv('./Files/Train.csv')\n",
    "dfTr.head()"
   ]
  },
  {
   "cell_type": "code",
   "execution_count": 6,
   "metadata": {},
   "outputs": [
    {
     "data": {
      "text/html": [
       "<div>\n",
       "<style scoped>\n",
       "    .dataframe tbody tr th:only-of-type {\n",
       "        vertical-align: middle;\n",
       "    }\n",
       "\n",
       "    .dataframe tbody tr th {\n",
       "        vertical-align: top;\n",
       "    }\n",
       "\n",
       "    .dataframe thead th {\n",
       "        text-align: right;\n",
       "    }\n",
       "</style>\n",
       "<table border=\"1\" class=\"dataframe\">\n",
       "  <thead>\n",
       "    <tr style=\"text-align: right;\">\n",
       "      <th></th>\n",
       "      <th>ID</th>\n",
       "      <th>Gender</th>\n",
       "      <th>Ever_Married</th>\n",
       "      <th>Age</th>\n",
       "      <th>Graduated</th>\n",
       "      <th>Profession</th>\n",
       "      <th>Work_Experience</th>\n",
       "      <th>Spending_Score</th>\n",
       "      <th>Family_Size</th>\n",
       "      <th>Var_1</th>\n",
       "    </tr>\n",
       "  </thead>\n",
       "  <tbody>\n",
       "    <tr>\n",
       "      <th>0</th>\n",
       "      <td>458989</td>\n",
       "      <td>Female</td>\n",
       "      <td>Yes</td>\n",
       "      <td>36</td>\n",
       "      <td>Yes</td>\n",
       "      <td>Engineer</td>\n",
       "      <td>0.0</td>\n",
       "      <td>Low</td>\n",
       "      <td>1.0</td>\n",
       "      <td>Cat_6</td>\n",
       "    </tr>\n",
       "    <tr>\n",
       "      <th>1</th>\n",
       "      <td>458994</td>\n",
       "      <td>Male</td>\n",
       "      <td>Yes</td>\n",
       "      <td>37</td>\n",
       "      <td>Yes</td>\n",
       "      <td>Healthcare</td>\n",
       "      <td>8.0</td>\n",
       "      <td>Average</td>\n",
       "      <td>4.0</td>\n",
       "      <td>Cat_6</td>\n",
       "    </tr>\n",
       "    <tr>\n",
       "      <th>2</th>\n",
       "      <td>458996</td>\n",
       "      <td>Female</td>\n",
       "      <td>Yes</td>\n",
       "      <td>69</td>\n",
       "      <td>No</td>\n",
       "      <td>NaN</td>\n",
       "      <td>0.0</td>\n",
       "      <td>Low</td>\n",
       "      <td>1.0</td>\n",
       "      <td>Cat_6</td>\n",
       "    </tr>\n",
       "    <tr>\n",
       "      <th>3</th>\n",
       "      <td>459000</td>\n",
       "      <td>Male</td>\n",
       "      <td>Yes</td>\n",
       "      <td>59</td>\n",
       "      <td>No</td>\n",
       "      <td>Executive</td>\n",
       "      <td>11.0</td>\n",
       "      <td>High</td>\n",
       "      <td>2.0</td>\n",
       "      <td>Cat_6</td>\n",
       "    </tr>\n",
       "    <tr>\n",
       "      <th>4</th>\n",
       "      <td>459001</td>\n",
       "      <td>Female</td>\n",
       "      <td>No</td>\n",
       "      <td>19</td>\n",
       "      <td>No</td>\n",
       "      <td>Marketing</td>\n",
       "      <td>NaN</td>\n",
       "      <td>Low</td>\n",
       "      <td>4.0</td>\n",
       "      <td>Cat_6</td>\n",
       "    </tr>\n",
       "  </tbody>\n",
       "</table>\n",
       "</div>"
      ],
      "text/plain": [
       "       ID  Gender Ever_Married  Age Graduated  Profession  Work_Experience  \\\n",
       "0  458989  Female          Yes   36       Yes    Engineer              0.0   \n",
       "1  458994    Male          Yes   37       Yes  Healthcare              8.0   \n",
       "2  458996  Female          Yes   69        No         NaN              0.0   \n",
       "3  459000    Male          Yes   59        No   Executive             11.0   \n",
       "4  459001  Female           No   19        No   Marketing              NaN   \n",
       "\n",
       "  Spending_Score  Family_Size  Var_1  \n",
       "0            Low          1.0  Cat_6  \n",
       "1        Average          4.0  Cat_6  \n",
       "2            Low          1.0  Cat_6  \n",
       "3           High          2.0  Cat_6  \n",
       "4            Low          4.0  Cat_6  "
      ]
     },
     "execution_count": 6,
     "metadata": {},
     "output_type": "execute_result"
    }
   ],
   "source": [
    "dfTs = pd.read_csv('./Files/Test.csv')\n",
    "dfTs.head()"
   ]
  },
  {
   "cell_type": "code",
   "execution_count": 7,
   "metadata": {},
   "outputs": [
    {
     "name": "stdout",
     "output_type": "stream",
     "text": [
      "(8068, 11)\n",
      "(2627, 10)\n"
     ]
    }
   ],
   "source": [
    "print(dfTr.shape)\n",
    "print(dfTs.shape)"
   ]
  },
  {
   "cell_type": "markdown",
   "metadata": {},
   "source": [
    "Comments:\n",
    "\n",
    "- The train data has 8068 rows, and 11 columns. \n",
    "- Whereas the test data consists of 2627 rows and 10 columns.\n",
    "- The test data has 1 less column, which is due to \"Segmentation\" being the target.\n",
    "- Thus, the ratio of train to test data is 3:1 which is quite good for the model. 24.5% of the whole data available for the model training."
   ]
  },
  {
   "cell_type": "markdown",
   "metadata": {},
   "source": [
    "__c. Dataframe Information__"
   ]
  },
  {
   "cell_type": "markdown",
   "metadata": {},
   "source": [
    "__c.1. Train Dataframe__"
   ]
  },
  {
   "cell_type": "code",
   "execution_count": 8,
   "metadata": {},
   "outputs": [],
   "source": [
    "#Function to describe Dataframe\n",
    "\n",
    "def describeDF(x):\n",
    "    listItem = []\n",
    "    for col in x.columns:\n",
    "        listItem.append([col, x[col].dtype,\n",
    "                       x[col].isna().sum(),\n",
    "                       round((x[col].isna().sum()/len(x[col])) *100, 2),\n",
    "                       x[col].nunique(), list(x[col].unique()[:5])]);\n",
    "\n",
    "    desc = pd.DataFrame(columns=['dataFeatures', 'dataType', 'null', 'nullPct', 'unique', 'uniqueSample'],\n",
    "                         data=listItem)\n",
    "    return desc"
   ]
  },
  {
   "cell_type": "code",
   "execution_count": 9,
   "metadata": {},
   "outputs": [
    {
     "data": {
      "text/html": [
       "<div>\n",
       "<style scoped>\n",
       "    .dataframe tbody tr th:only-of-type {\n",
       "        vertical-align: middle;\n",
       "    }\n",
       "\n",
       "    .dataframe tbody tr th {\n",
       "        vertical-align: top;\n",
       "    }\n",
       "\n",
       "    .dataframe thead th {\n",
       "        text-align: right;\n",
       "    }\n",
       "</style>\n",
       "<table border=\"1\" class=\"dataframe\">\n",
       "  <thead>\n",
       "    <tr style=\"text-align: right;\">\n",
       "      <th></th>\n",
       "      <th>dataFeatures</th>\n",
       "      <th>dataType</th>\n",
       "      <th>null</th>\n",
       "      <th>nullPct</th>\n",
       "      <th>unique</th>\n",
       "      <th>uniqueSample</th>\n",
       "    </tr>\n",
       "  </thead>\n",
       "  <tbody>\n",
       "    <tr>\n",
       "      <th>0</th>\n",
       "      <td>ID</td>\n",
       "      <td>int64</td>\n",
       "      <td>0</td>\n",
       "      <td>0.00</td>\n",
       "      <td>8068</td>\n",
       "      <td>[462809, 462643, 466315, 461735, 462669]</td>\n",
       "    </tr>\n",
       "    <tr>\n",
       "      <th>1</th>\n",
       "      <td>Gender</td>\n",
       "      <td>object</td>\n",
       "      <td>0</td>\n",
       "      <td>0.00</td>\n",
       "      <td>2</td>\n",
       "      <td>[Male, Female]</td>\n",
       "    </tr>\n",
       "    <tr>\n",
       "      <th>2</th>\n",
       "      <td>Ever_Married</td>\n",
       "      <td>object</td>\n",
       "      <td>140</td>\n",
       "      <td>1.74</td>\n",
       "      <td>2</td>\n",
       "      <td>[No, Yes, nan]</td>\n",
       "    </tr>\n",
       "    <tr>\n",
       "      <th>3</th>\n",
       "      <td>Age</td>\n",
       "      <td>int64</td>\n",
       "      <td>0</td>\n",
       "      <td>0.00</td>\n",
       "      <td>67</td>\n",
       "      <td>[22, 38, 67, 40, 56]</td>\n",
       "    </tr>\n",
       "    <tr>\n",
       "      <th>4</th>\n",
       "      <td>Graduated</td>\n",
       "      <td>object</td>\n",
       "      <td>78</td>\n",
       "      <td>0.97</td>\n",
       "      <td>2</td>\n",
       "      <td>[No, Yes, nan]</td>\n",
       "    </tr>\n",
       "    <tr>\n",
       "      <th>5</th>\n",
       "      <td>Profession</td>\n",
       "      <td>object</td>\n",
       "      <td>124</td>\n",
       "      <td>1.54</td>\n",
       "      <td>9</td>\n",
       "      <td>[Healthcare, Engineer, Lawyer, Entertainment, ...</td>\n",
       "    </tr>\n",
       "    <tr>\n",
       "      <th>6</th>\n",
       "      <td>Work_Experience</td>\n",
       "      <td>float64</td>\n",
       "      <td>829</td>\n",
       "      <td>10.28</td>\n",
       "      <td>15</td>\n",
       "      <td>[1.0, nan, 0.0, 4.0, 9.0]</td>\n",
       "    </tr>\n",
       "    <tr>\n",
       "      <th>7</th>\n",
       "      <td>Spending_Score</td>\n",
       "      <td>object</td>\n",
       "      <td>0</td>\n",
       "      <td>0.00</td>\n",
       "      <td>3</td>\n",
       "      <td>[Low, Average, High]</td>\n",
       "    </tr>\n",
       "    <tr>\n",
       "      <th>8</th>\n",
       "      <td>Family_Size</td>\n",
       "      <td>float64</td>\n",
       "      <td>335</td>\n",
       "      <td>4.15</td>\n",
       "      <td>9</td>\n",
       "      <td>[4.0, 3.0, 1.0, 2.0, 6.0]</td>\n",
       "    </tr>\n",
       "    <tr>\n",
       "      <th>9</th>\n",
       "      <td>Var_1</td>\n",
       "      <td>object</td>\n",
       "      <td>76</td>\n",
       "      <td>0.94</td>\n",
       "      <td>7</td>\n",
       "      <td>[Cat_4, Cat_6, Cat_7, Cat_3, Cat_1]</td>\n",
       "    </tr>\n",
       "    <tr>\n",
       "      <th>10</th>\n",
       "      <td>Segmentation</td>\n",
       "      <td>object</td>\n",
       "      <td>0</td>\n",
       "      <td>0.00</td>\n",
       "      <td>4</td>\n",
       "      <td>[D, A, B, C]</td>\n",
       "    </tr>\n",
       "  </tbody>\n",
       "</table>\n",
       "</div>"
      ],
      "text/plain": [
       "       dataFeatures dataType  null  nullPct  unique  \\\n",
       "0                ID    int64     0     0.00    8068   \n",
       "1            Gender   object     0     0.00       2   \n",
       "2      Ever_Married   object   140     1.74       2   \n",
       "3               Age    int64     0     0.00      67   \n",
       "4         Graduated   object    78     0.97       2   \n",
       "5        Profession   object   124     1.54       9   \n",
       "6   Work_Experience  float64   829    10.28      15   \n",
       "7    Spending_Score   object     0     0.00       3   \n",
       "8       Family_Size  float64   335     4.15       9   \n",
       "9             Var_1   object    76     0.94       7   \n",
       "10     Segmentation   object     0     0.00       4   \n",
       "\n",
       "                                         uniqueSample  \n",
       "0            [462809, 462643, 466315, 461735, 462669]  \n",
       "1                                      [Male, Female]  \n",
       "2                                      [No, Yes, nan]  \n",
       "3                                [22, 38, 67, 40, 56]  \n",
       "4                                      [No, Yes, nan]  \n",
       "5   [Healthcare, Engineer, Lawyer, Entertainment, ...  \n",
       "6                           [1.0, nan, 0.0, 4.0, 9.0]  \n",
       "7                                [Low, Average, High]  \n",
       "8                           [4.0, 3.0, 1.0, 2.0, 6.0]  \n",
       "9                 [Cat_4, Cat_6, Cat_7, Cat_3, Cat_1]  \n",
       "10                                       [D, A, B, C]  "
      ]
     },
     "execution_count": 9,
     "metadata": {},
     "output_type": "execute_result"
    }
   ],
   "source": [
    "describeDF(dfTr)"
   ]
  },
  {
   "cell_type": "code",
   "execution_count": 10,
   "metadata": {},
   "outputs": [
    {
     "data": {
      "text/html": [
       "<div>\n",
       "<style scoped>\n",
       "    .dataframe tbody tr th:only-of-type {\n",
       "        vertical-align: middle;\n",
       "    }\n",
       "\n",
       "    .dataframe tbody tr th {\n",
       "        vertical-align: top;\n",
       "    }\n",
       "\n",
       "    .dataframe thead th {\n",
       "        text-align: right;\n",
       "    }\n",
       "</style>\n",
       "<table border=\"1\" class=\"dataframe\">\n",
       "  <thead>\n",
       "    <tr style=\"text-align: right;\">\n",
       "      <th></th>\n",
       "      <th>count</th>\n",
       "      <th>mean</th>\n",
       "      <th>std</th>\n",
       "      <th>min</th>\n",
       "      <th>25%</th>\n",
       "      <th>50%</th>\n",
       "      <th>75%</th>\n",
       "      <th>max</th>\n",
       "    </tr>\n",
       "  </thead>\n",
       "  <tbody>\n",
       "    <tr>\n",
       "      <th>ID</th>\n",
       "      <td>8068.0</td>\n",
       "      <td>463479.214551</td>\n",
       "      <td>2595.381232</td>\n",
       "      <td>458982.0</td>\n",
       "      <td>461240.75</td>\n",
       "      <td>463472.5</td>\n",
       "      <td>465744.25</td>\n",
       "      <td>467974.0</td>\n",
       "    </tr>\n",
       "    <tr>\n",
       "      <th>Age</th>\n",
       "      <td>8068.0</td>\n",
       "      <td>43.466906</td>\n",
       "      <td>16.711696</td>\n",
       "      <td>18.0</td>\n",
       "      <td>30.00</td>\n",
       "      <td>40.0</td>\n",
       "      <td>53.00</td>\n",
       "      <td>89.0</td>\n",
       "    </tr>\n",
       "    <tr>\n",
       "      <th>Work_Experience</th>\n",
       "      <td>7239.0</td>\n",
       "      <td>2.641663</td>\n",
       "      <td>3.406763</td>\n",
       "      <td>0.0</td>\n",
       "      <td>0.00</td>\n",
       "      <td>1.0</td>\n",
       "      <td>4.00</td>\n",
       "      <td>14.0</td>\n",
       "    </tr>\n",
       "    <tr>\n",
       "      <th>Family_Size</th>\n",
       "      <td>7733.0</td>\n",
       "      <td>2.850123</td>\n",
       "      <td>1.531413</td>\n",
       "      <td>1.0</td>\n",
       "      <td>2.00</td>\n",
       "      <td>3.0</td>\n",
       "      <td>4.00</td>\n",
       "      <td>9.0</td>\n",
       "    </tr>\n",
       "  </tbody>\n",
       "</table>\n",
       "</div>"
      ],
      "text/plain": [
       "                  count           mean          std       min        25%  \\\n",
       "ID               8068.0  463479.214551  2595.381232  458982.0  461240.75   \n",
       "Age              8068.0      43.466906    16.711696      18.0      30.00   \n",
       "Work_Experience  7239.0       2.641663     3.406763       0.0       0.00   \n",
       "Family_Size      7733.0       2.850123     1.531413       1.0       2.00   \n",
       "\n",
       "                      50%        75%       max  \n",
       "ID               463472.5  465744.25  467974.0  \n",
       "Age                  40.0      53.00      89.0  \n",
       "Work_Experience       1.0       4.00      14.0  \n",
       "Family_Size           3.0       4.00       9.0  "
      ]
     },
     "execution_count": 10,
     "metadata": {},
     "output_type": "execute_result"
    }
   ],
   "source": [
    "dfTr.describe().T"
   ]
  },
  {
   "cell_type": "markdown",
   "metadata": {},
   "source": [
    "Comments:\n",
    "\n",
    "- There are a very high percentage of null value (10.28%) in Work_Experience which might affect the model later on. This is perhaps due to the unwillingness of customer to state their job, or they are still looking for a steady job.\n",
    "- Family_Size has 4.15 % of null value, meaning that some user prefer to keep their privacy.\n",
    "- Ever_Married, Profession, Graduated and Var_1 both have less than 2% of null value.\n",
    "- Must consider what to do with the null value, since it might affect the model performance.\n",
    "\n",
    "__more comments on the statistic distribution__"
   ]
  },
  {
   "cell_type": "markdown",
   "metadata": {},
   "source": [
    "__c.2. Test Dataframe__"
   ]
  },
  {
   "cell_type": "code",
   "execution_count": 11,
   "metadata": {},
   "outputs": [
    {
     "data": {
      "text/html": [
       "<div>\n",
       "<style scoped>\n",
       "    .dataframe tbody tr th:only-of-type {\n",
       "        vertical-align: middle;\n",
       "    }\n",
       "\n",
       "    .dataframe tbody tr th {\n",
       "        vertical-align: top;\n",
       "    }\n",
       "\n",
       "    .dataframe thead th {\n",
       "        text-align: right;\n",
       "    }\n",
       "</style>\n",
       "<table border=\"1\" class=\"dataframe\">\n",
       "  <thead>\n",
       "    <tr style=\"text-align: right;\">\n",
       "      <th></th>\n",
       "      <th>dataFeatures</th>\n",
       "      <th>dataType</th>\n",
       "      <th>null</th>\n",
       "      <th>nullPct</th>\n",
       "      <th>unique</th>\n",
       "      <th>uniqueSample</th>\n",
       "    </tr>\n",
       "  </thead>\n",
       "  <tbody>\n",
       "    <tr>\n",
       "      <th>0</th>\n",
       "      <td>ID</td>\n",
       "      <td>int64</td>\n",
       "      <td>0</td>\n",
       "      <td>0.00</td>\n",
       "      <td>2627</td>\n",
       "      <td>[458989, 458994, 458996, 459000, 459001]</td>\n",
       "    </tr>\n",
       "    <tr>\n",
       "      <th>1</th>\n",
       "      <td>Gender</td>\n",
       "      <td>object</td>\n",
       "      <td>0</td>\n",
       "      <td>0.00</td>\n",
       "      <td>2</td>\n",
       "      <td>[Female, Male]</td>\n",
       "    </tr>\n",
       "    <tr>\n",
       "      <th>2</th>\n",
       "      <td>Ever_Married</td>\n",
       "      <td>object</td>\n",
       "      <td>50</td>\n",
       "      <td>1.90</td>\n",
       "      <td>2</td>\n",
       "      <td>[Yes, No, nan]</td>\n",
       "    </tr>\n",
       "    <tr>\n",
       "      <th>3</th>\n",
       "      <td>Age</td>\n",
       "      <td>int64</td>\n",
       "      <td>0</td>\n",
       "      <td>0.00</td>\n",
       "      <td>67</td>\n",
       "      <td>[36, 37, 69, 59, 19]</td>\n",
       "    </tr>\n",
       "    <tr>\n",
       "      <th>4</th>\n",
       "      <td>Graduated</td>\n",
       "      <td>object</td>\n",
       "      <td>24</td>\n",
       "      <td>0.91</td>\n",
       "      <td>2</td>\n",
       "      <td>[Yes, No, nan]</td>\n",
       "    </tr>\n",
       "    <tr>\n",
       "      <th>5</th>\n",
       "      <td>Profession</td>\n",
       "      <td>object</td>\n",
       "      <td>38</td>\n",
       "      <td>1.45</td>\n",
       "      <td>9</td>\n",
       "      <td>[Engineer, Healthcare, nan, Executive, Marketing]</td>\n",
       "    </tr>\n",
       "    <tr>\n",
       "      <th>6</th>\n",
       "      <td>Work_Experience</td>\n",
       "      <td>float64</td>\n",
       "      <td>269</td>\n",
       "      <td>10.24</td>\n",
       "      <td>15</td>\n",
       "      <td>[0.0, 8.0, 11.0, nan, 5.0]</td>\n",
       "    </tr>\n",
       "    <tr>\n",
       "      <th>7</th>\n",
       "      <td>Spending_Score</td>\n",
       "      <td>object</td>\n",
       "      <td>0</td>\n",
       "      <td>0.00</td>\n",
       "      <td>3</td>\n",
       "      <td>[Low, Average, High]</td>\n",
       "    </tr>\n",
       "    <tr>\n",
       "      <th>8</th>\n",
       "      <td>Family_Size</td>\n",
       "      <td>float64</td>\n",
       "      <td>113</td>\n",
       "      <td>4.30</td>\n",
       "      <td>9</td>\n",
       "      <td>[1.0, 4.0, 2.0, 5.0, 3.0]</td>\n",
       "    </tr>\n",
       "    <tr>\n",
       "      <th>9</th>\n",
       "      <td>Var_1</td>\n",
       "      <td>object</td>\n",
       "      <td>32</td>\n",
       "      <td>1.22</td>\n",
       "      <td>7</td>\n",
       "      <td>[Cat_6, Cat_4, Cat_3, nan, Cat_1]</td>\n",
       "    </tr>\n",
       "  </tbody>\n",
       "</table>\n",
       "</div>"
      ],
      "text/plain": [
       "      dataFeatures dataType  null  nullPct  unique  \\\n",
       "0               ID    int64     0     0.00    2627   \n",
       "1           Gender   object     0     0.00       2   \n",
       "2     Ever_Married   object    50     1.90       2   \n",
       "3              Age    int64     0     0.00      67   \n",
       "4        Graduated   object    24     0.91       2   \n",
       "5       Profession   object    38     1.45       9   \n",
       "6  Work_Experience  float64   269    10.24      15   \n",
       "7   Spending_Score   object     0     0.00       3   \n",
       "8      Family_Size  float64   113     4.30       9   \n",
       "9            Var_1   object    32     1.22       7   \n",
       "\n",
       "                                        uniqueSample  \n",
       "0           [458989, 458994, 458996, 459000, 459001]  \n",
       "1                                     [Female, Male]  \n",
       "2                                     [Yes, No, nan]  \n",
       "3                               [36, 37, 69, 59, 19]  \n",
       "4                                     [Yes, No, nan]  \n",
       "5  [Engineer, Healthcare, nan, Executive, Marketing]  \n",
       "6                         [0.0, 8.0, 11.0, nan, 5.0]  \n",
       "7                               [Low, Average, High]  \n",
       "8                          [1.0, 4.0, 2.0, 5.0, 3.0]  \n",
       "9                  [Cat_6, Cat_4, Cat_3, nan, Cat_1]  "
      ]
     },
     "execution_count": 11,
     "metadata": {},
     "output_type": "execute_result"
    }
   ],
   "source": [
    "describeDF(dfTs)"
   ]
  },
  {
   "cell_type": "code",
   "execution_count": 12,
   "metadata": {},
   "outputs": [
    {
     "data": {
      "text/html": [
       "<div>\n",
       "<style scoped>\n",
       "    .dataframe tbody tr th:only-of-type {\n",
       "        vertical-align: middle;\n",
       "    }\n",
       "\n",
       "    .dataframe tbody tr th {\n",
       "        vertical-align: top;\n",
       "    }\n",
       "\n",
       "    .dataframe thead th {\n",
       "        text-align: right;\n",
       "    }\n",
       "</style>\n",
       "<table border=\"1\" class=\"dataframe\">\n",
       "  <thead>\n",
       "    <tr style=\"text-align: right;\">\n",
       "      <th></th>\n",
       "      <th>count</th>\n",
       "      <th>mean</th>\n",
       "      <th>std</th>\n",
       "      <th>min</th>\n",
       "      <th>25%</th>\n",
       "      <th>50%</th>\n",
       "      <th>75%</th>\n",
       "      <th>max</th>\n",
       "    </tr>\n",
       "  </thead>\n",
       "  <tbody>\n",
       "    <tr>\n",
       "      <th>ID</th>\n",
       "      <td>2627.0</td>\n",
       "      <td>463433.918919</td>\n",
       "      <td>2618.245698</td>\n",
       "      <td>458989.0</td>\n",
       "      <td>461162.5</td>\n",
       "      <td>463379.0</td>\n",
       "      <td>465696.0</td>\n",
       "      <td>467968.0</td>\n",
       "    </tr>\n",
       "    <tr>\n",
       "      <th>Age</th>\n",
       "      <td>2627.0</td>\n",
       "      <td>43.649791</td>\n",
       "      <td>16.967015</td>\n",
       "      <td>18.0</td>\n",
       "      <td>30.0</td>\n",
       "      <td>41.0</td>\n",
       "      <td>53.0</td>\n",
       "      <td>89.0</td>\n",
       "    </tr>\n",
       "    <tr>\n",
       "      <th>Work_Experience</th>\n",
       "      <td>2358.0</td>\n",
       "      <td>2.552587</td>\n",
       "      <td>3.341094</td>\n",
       "      <td>0.0</td>\n",
       "      <td>0.0</td>\n",
       "      <td>1.0</td>\n",
       "      <td>4.0</td>\n",
       "      <td>14.0</td>\n",
       "    </tr>\n",
       "    <tr>\n",
       "      <th>Family_Size</th>\n",
       "      <td>2514.0</td>\n",
       "      <td>2.825378</td>\n",
       "      <td>1.551906</td>\n",
       "      <td>1.0</td>\n",
       "      <td>2.0</td>\n",
       "      <td>2.0</td>\n",
       "      <td>4.0</td>\n",
       "      <td>9.0</td>\n",
       "    </tr>\n",
       "  </tbody>\n",
       "</table>\n",
       "</div>"
      ],
      "text/plain": [
       "                  count           mean          std       min       25%  \\\n",
       "ID               2627.0  463433.918919  2618.245698  458989.0  461162.5   \n",
       "Age              2627.0      43.649791    16.967015      18.0      30.0   \n",
       "Work_Experience  2358.0       2.552587     3.341094       0.0       0.0   \n",
       "Family_Size      2514.0       2.825378     1.551906       1.0       2.0   \n",
       "\n",
       "                      50%       75%       max  \n",
       "ID               463379.0  465696.0  467968.0  \n",
       "Age                  41.0      53.0      89.0  \n",
       "Work_Experience       1.0       4.0      14.0  \n",
       "Family_Size           2.0       4.0       9.0  "
      ]
     },
     "execution_count": 12,
     "metadata": {},
     "output_type": "execute_result"
    }
   ],
   "source": [
    "dfTs.describe().T"
   ]
  },
  {
   "cell_type": "markdown",
   "metadata": {},
   "source": [
    "Comments:\n",
    "- The test data is also filled with most null data in Work_Experience, which means this might be quite an important feature in determining the Segmentation.\n",
    "- Overall, the features with most null values are also similar with the train data."
   ]
  },
  {
   "cell_type": "markdown",
   "metadata": {},
   "source": [
    "### __2. Exploratory Data Analysis (EDA)__"
   ]
  },
  {
   "cell_type": "markdown",
   "metadata": {},
   "source": [
    "__A. Data Analization and Visualization__"
   ]
  },
  {
   "cell_type": "markdown",
   "metadata": {},
   "source": [
    "Based on the high percentage of null values in Train Data, columns that contain null values in order are as follow (including the datatypes):\n",
    "\n",
    "1. Work_Experience - 10.28% - float64\n",
    "2. Family_Size - 4.15% - float64\n",
    "3. Ever_Married - 1.74% - object\n",
    "4. Profession - 1.54% - object\n",
    "5. Graduated - 0.97% - object\n",
    "6. Var_1 - 0.94% - object\n",
    "\n",
    "- The top 2 null percentages are numerical data, whereas the others are categorical data.\n",
    "\n",
    "- Although the percentages are different within the Test Data, the patterns are quite similar. So, let's explore these data first to figure out what methods will be used to handle the null values."
   ]
  },
  {
   "cell_type": "code",
   "execution_count": 250,
   "metadata": {},
   "outputs": [
    {
     "data": {
      "text/plain": [
       "<matplotlib.axes._subplots.AxesSubplot at 0x1a296afc50>"
      ]
     },
     "execution_count": 250,
     "metadata": {},
     "output_type": "execute_result"
    },
    {
     "data": {
      "image/png": "[encoded data removed]",
      "text/plain": [
       "<Figure size 432x288 with 1 Axes>"
      ]
     },
     "metadata": {
      "needs_background": "light"
     },
     "output_type": "display_data"
    }
   ],
   "source": [
    "sns.countplot(dfTr['Segmentation'])"
   ]
  },
  {
   "cell_type": "markdown",
   "metadata": {},
   "source": [
    "__A.1. Work Experience and Family Size Influence on the Segmentation__"
   ]
  },
  {
   "cell_type": "code",
   "execution_count": 53,
   "metadata": {
    "collapsed": true,
    "jupyter": {
     "outputs_hidden": true
    }
   },
   "outputs": [
    {
     "data": {
      "text/plain": [
       "0    4\n",
       "1    1\n",
       "2    2\n",
       "3    2\n",
       "4    1\n",
       "Name: Segmentation, dtype: int64"
      ]
     },
     "execution_count": 53,
     "metadata": {},
     "output_type": "execute_result"
    }
   ],
   "source": [
    "# Duplicate Train Data to Modify without changing the initial value\n",
    "trMod = dfTr.copy(deep=True)\n",
    "\n",
    "# Encoding the Segmentation Columns categorical data into numerical to ease the analysation\n",
    "trMod['Segmentation'] = trMod['Segmentation'].apply(lambda val: 1 if val=='A' \n",
    "                                                    else(2 if val=='B' \n",
    "                                                         else(3 if val=='C' else 4)))"
   ]
  },
  {
   "cell_type": "code",
   "execution_count": 69,
   "metadata": {},
   "outputs": [
    {
     "data": {
      "text/plain": [
       "<matplotlib.axes._subplots.AxesSubplot at 0x1a22337940>"
      ]
     },
     "execution_count": 69,
     "metadata": {},
     "output_type": "execute_result"
    },
    {
     "data": {
      "image/png": "[encoded data removed]",
      "text/plain": [
       "<Figure size 1152x576 with 4 Axes>"
      ]
     },
     "metadata": {
      "needs_background": "light"
     },
     "output_type": "display_data"
    }
   ],
   "source": [
    "plt.figure(figsize=(16,8))\n",
    "\n",
    "plt.subplot(2,2,1)\n",
    "sns.kdeplot(trMod[trMod['Segmentation'] == 1]['Work_Experience'].dropna(), label = 'A')\n",
    "sns.kdeplot(trMod[trMod['Segmentation'] == 2]['Work_Experience'].dropna(), label = 'B')\n",
    "sns.kdeplot(trMod[trMod['Segmentation'] == 3]['Work_Experience'].dropna(), label = 'C')\n",
    "sns.kdeplot(trMod[trMod['Segmentation'] == 4]['Work_Experience'].dropna(), label = 'D')\n",
    "plt.grid(True)\n",
    "\n",
    "plt.subplot(2,2,2)\n",
    "sns.kdeplot(trMod[trMod['Segmentation'] == 1]['Family_Size'].dropna(), label = 'A')\n",
    "sns.kdeplot(trMod[trMod['Segmentation'] == 2]['Family_Size'].dropna(), label = 'B')\n",
    "sns.kdeplot(trMod[trMod['Segmentation'] == 3]['Family_Size'].dropna(), label = 'C')\n",
    "sns.kdeplot(trMod[trMod['Segmentation'] == 4]['Family_Size'].dropna(), label = 'D')\n",
    "plt.grid(True)\n",
    "\n",
    "\n",
    "plt.subplot(2,2,3)\n",
    "sns.countplot(trMod['Work_Experience'].dropna())\n",
    "\n",
    "plt.subplot(2,2,4)\n",
    "sns.countplot(trMod['Family_Size'])"
   ]
  },
  {
   "cell_type": "markdown",
   "metadata": {},
   "source": [
    "\n",
    "- On the plot for Work_Experience, it can be seen that the patterns are quite similar between each Segmentation. The peak can be seen the most within the 0 and 1 value, then it is constant until the value 8 and 9. From 10 to the rest, is quite a low count.\n",
    "\n",
    "- In Family_Size plot, it can be seen that Segmentation C has the lowest user number in Family_Size of 1 compare to the other Segmentations. However, in the highest frequency of Family_Size which is 2, it can be seen that Segmentation C has the most user. A high frequency of Segmentation A seems to be found in Family Size of 1, whereas it's the lowest in Family_Size of 4. \n",
    "\n",
    "- From this, we can conclude that perhaps the feature Family_Size has a certain influence towards the Segmentations. Whereas the Work_Experience doesn't contribute as significant as Family_Size. However, we must evaluate more to confirm this hypothesis."
   ]
  },
  {
   "cell_type": "markdown",
   "metadata": {},
   "source": [
    "__A.2. Numerical Data Influences Toward Segmentation__"
   ]
  },
  {
   "cell_type": "code",
   "execution_count": 237,
   "metadata": {},
   "outputs": [
    {
     "data": {
      "text/html": [
       "<div>\n",
       "<style scoped>\n",
       "    .dataframe tbody tr th:only-of-type {\n",
       "        vertical-align: middle;\n",
       "    }\n",
       "\n",
       "    .dataframe tbody tr th {\n",
       "        vertical-align: top;\n",
       "    }\n",
       "\n",
       "    .dataframe thead th {\n",
       "        text-align: right;\n",
       "    }\n",
       "</style>\n",
       "<table border=\"1\" class=\"dataframe\">\n",
       "  <thead>\n",
       "    <tr style=\"text-align: right;\">\n",
       "      <th></th>\n",
       "      <th>ID</th>\n",
       "      <th>Gender</th>\n",
       "      <th>Ever_Married</th>\n",
       "      <th>Age</th>\n",
       "      <th>Graduated</th>\n",
       "      <th>Profession</th>\n",
       "      <th>Work_Experience</th>\n",
       "      <th>Spending_Score</th>\n",
       "      <th>Family_Size</th>\n",
       "      <th>Var_1</th>\n",
       "      <th>Segm_A</th>\n",
       "      <th>Segm_B</th>\n",
       "      <th>Segm_C</th>\n",
       "      <th>Segm_D</th>\n",
       "    </tr>\n",
       "  </thead>\n",
       "  <tbody>\n",
       "    <tr>\n",
       "      <th>0</th>\n",
       "      <td>462809</td>\n",
       "      <td>Male</td>\n",
       "      <td>No</td>\n",
       "      <td>22</td>\n",
       "      <td>No</td>\n",
       "      <td>Healthcare</td>\n",
       "      <td>1.0</td>\n",
       "      <td>Low</td>\n",
       "      <td>4.0</td>\n",
       "      <td>Cat_4</td>\n",
       "      <td>0</td>\n",
       "      <td>0</td>\n",
       "      <td>0</td>\n",
       "      <td>1</td>\n",
       "    </tr>\n",
       "    <tr>\n",
       "      <th>1</th>\n",
       "      <td>462643</td>\n",
       "      <td>Female</td>\n",
       "      <td>Yes</td>\n",
       "      <td>38</td>\n",
       "      <td>Yes</td>\n",
       "      <td>Engineer</td>\n",
       "      <td>NaN</td>\n",
       "      <td>Average</td>\n",
       "      <td>3.0</td>\n",
       "      <td>Cat_4</td>\n",
       "      <td>1</td>\n",
       "      <td>0</td>\n",
       "      <td>0</td>\n",
       "      <td>0</td>\n",
       "    </tr>\n",
       "    <tr>\n",
       "      <th>2</th>\n",
       "      <td>466315</td>\n",
       "      <td>Female</td>\n",
       "      <td>Yes</td>\n",
       "      <td>67</td>\n",
       "      <td>Yes</td>\n",
       "      <td>Engineer</td>\n",
       "      <td>1.0</td>\n",
       "      <td>Low</td>\n",
       "      <td>1.0</td>\n",
       "      <td>Cat_6</td>\n",
       "      <td>0</td>\n",
       "      <td>1</td>\n",
       "      <td>0</td>\n",
       "      <td>0</td>\n",
       "    </tr>\n",
       "    <tr>\n",
       "      <th>3</th>\n",
       "      <td>461735</td>\n",
       "      <td>Male</td>\n",
       "      <td>Yes</td>\n",
       "      <td>67</td>\n",
       "      <td>Yes</td>\n",
       "      <td>Lawyer</td>\n",
       "      <td>0.0</td>\n",
       "      <td>High</td>\n",
       "      <td>2.0</td>\n",
       "      <td>Cat_6</td>\n",
       "      <td>0</td>\n",
       "      <td>1</td>\n",
       "      <td>0</td>\n",
       "      <td>0</td>\n",
       "    </tr>\n",
       "    <tr>\n",
       "      <th>4</th>\n",
       "      <td>462669</td>\n",
       "      <td>Female</td>\n",
       "      <td>Yes</td>\n",
       "      <td>40</td>\n",
       "      <td>Yes</td>\n",
       "      <td>Entertainment</td>\n",
       "      <td>NaN</td>\n",
       "      <td>High</td>\n",
       "      <td>6.0</td>\n",
       "      <td>Cat_6</td>\n",
       "      <td>1</td>\n",
       "      <td>0</td>\n",
       "      <td>0</td>\n",
       "      <td>0</td>\n",
       "    </tr>\n",
       "  </tbody>\n",
       "</table>\n",
       "</div>"
      ],
      "text/plain": [
       "       ID  Gender Ever_Married  Age Graduated     Profession  Work_Experience  \\\n",
       "0  462809    Male           No   22        No     Healthcare              1.0   \n",
       "1  462643  Female          Yes   38       Yes       Engineer              NaN   \n",
       "2  466315  Female          Yes   67       Yes       Engineer              1.0   \n",
       "3  461735    Male          Yes   67       Yes         Lawyer              0.0   \n",
       "4  462669  Female          Yes   40       Yes  Entertainment              NaN   \n",
       "\n",
       "  Spending_Score  Family_Size  Var_1  Segm_A  Segm_B  Segm_C  Segm_D  \n",
       "0            Low          4.0  Cat_4       0       0       0       1  \n",
       "1        Average          3.0  Cat_4       1       0       0       0  \n",
       "2            Low          1.0  Cat_6       0       1       0       0  \n",
       "3           High          2.0  Cat_6       0       1       0       0  \n",
       "4           High          6.0  Cat_6       1       0       0       0  "
      ]
     },
     "execution_count": 237,
     "metadata": {},
     "output_type": "execute_result"
    }
   ],
   "source": [
    "# Duplicating Training Data, and labeling the target columns with One Hot Encoder\n",
    "\n",
    "oneHot1 = dfTr.copy(deep=True)\n",
    "oneHot1['Segmentation'] = pd.Categorical(oneHot1['Segmentation'])\n",
    "dfDummies = pd.get_dummies(oneHot1['Segmentation'], prefix = 'Segm')\n",
    "oneHot2 = pd.concat([oneHot1, dfDummies], axis=1).drop('Segmentation',\n",
    "                                                       axis = 1)\n",
    "oneHot2.head()"
   ]
  },
  {
   "cell_type": "code",
   "execution_count": 248,
   "metadata": {},
   "outputs": [
    {
     "data": {
      "text/plain": [
       "<matplotlib.axes._subplots.AxesSubplot at 0x1a292b4c50>"
      ]
     },
     "execution_count": 248,
     "metadata": {},
     "output_type": "execute_result"
    },
    {
     "data": {
      "image/png": "[encoded data removed]",
      "text/plain": [
       "<Figure size 1296x576 with 4 Axes>"
      ]
     },
     "metadata": {
      "needs_background": "light"
     },
     "output_type": "display_data"
    }
   ],
   "source": [
    "plt.figure(figsize = (18,8))\n",
    "\n",
    "plt.subplot(1,2,1)\n",
    "plt.title('Correlation of Columns Without Encoding Segmentation')\n",
    "sns.heatmap(trMod.corr(), annot=True)\n",
    "\n",
    "plt.subplot(1,2,2)\n",
    "plt.title('Correlation of Columns After Encoding')\n",
    "sns.heatmap(oneHot2.corr(), annot=True)"
   ]
  },
  {
   "cell_type": "markdown",
   "metadata": {},
   "source": [
    "#### Comments\n",
    "\n",
    "__1. Correlation Before Encoding the Segmentation Columns (Left)__\n",
    "\n",
    "- The higher the Family_Size, the more tendency for the customer to be in the higher segmentation (either C or D).\n",
    "- The lower the Family_Size, more tendency of user to be in Segmentation A or B.\n",
    "- Work_Experience seems to influence only a little on the segmentation, but we found out that there is 1.3% of tendency towards Segmentation D if the Work_Experience is of a higher value.\n",
    "- The younger the customer (Age) seems to have more tendency to be in Segmentation A or B. The influence is quite high, which is 24%.\n",
    "\n",
    "__2. Correlation After Encoding the Segmentation Columns (Right)__\n",
    "\n",
    "- Segmentation A seems to be influenced the most by Family_Size(-15%). The lower the Family_Size, the more tendency of users to be segmented there. Whereas the higher the Family_Size, the more tendency towards Segmentation D (15%). Segmentation C is only affected by 4.7%, whereas Segmentation B is affected by -5.5% whenever Family_Size increases.\n",
    "- Age has quite a significant influence towards Segmentation. The higher the age, the less tendency to be in Segmentation D (-38%), whereas the older customers tend to be divided in Segmentation B (15%) and C (19%). The younger customers probably tend to be in Segmentation A and D.\n",
    "- The more Work_Experience, the more tendency towards Segmentation A and B (3.9% and 6.8%). However, it seems like it's not that impactful as Age.\n",
    "\n",
    "__Notes__\n",
    "- However, this correlation is based on only simulating the numerical value. We have to investigate further whether the other 6 columns have more influence towards the Segmentation.\n",
    "- Also to be noted, the data used has null values in Working_Experience (10%) and Family_Size (4.15%) which may affect the correlation too."
   ]
  },
  {
   "cell_type": "markdown",
   "metadata": {},
   "source": [
    "__A.3. Categorical Data__"
   ]
  },
  {
   "cell_type": "markdown",
   "metadata": {},
   "source": [
    "- The data has 11 columns, which are 'ID', 'Gender', 'Ever_Married', 'Age', 'Graduated', 'Profession',\n",
    "       'Work_Experience', 'Spending_Score', 'Family_Size', 'Var_1', 'Segmentation'.\n",
    "- Since 'Segmentation' is the target for the model, we exclude it. Same as 'ID', since it's not really the customer's preferences or historical data.\n",
    "- 5 out of 9 columns are categorical, so before encoding and filling the null values, we have to analyze further into it."
   ]
  },
  {
   "cell_type": "code",
   "execution_count": 96,
   "metadata": {},
   "outputs": [
    {
     "data": {
      "text/plain": [
       "<matplotlib.axes._subplots.AxesSubplot at 0x1a23206828>"
      ]
     },
     "execution_count": 96,
     "metadata": {},
     "output_type": "execute_result"
    },
    {
     "data": {
      "image/png": "[encoded data removed]",
      "text/plain": [
       "<Figure size 1152x576 with 4 Axes>"
      ]
     },
     "metadata": {
      "needs_background": "light"
     },
     "output_type": "display_data"
    }
   ],
   "source": [
    "plt.figure(figsize=(16,8))\n",
    "\n",
    "plt.subplot(2,2,1)\n",
    "sns.countplot(trMod['Ever_Married'].dropna())\n",
    "\n",
    "plt.subplot(2,2,2)\n",
    "sns.countplot(trMod['Profession'].dropna())\n",
    "\n",
    "plt.subplot(2,2,3)\n",
    "sns.countplot(trMod['Graduated'].dropna())\n",
    "\n",
    "plt.subplot(2,2,4)\n",
    "sns.countplot(trMod['Var_1'].dropna())"
   ]
  },
  {
   "cell_type": "markdown",
   "metadata": {},
   "source": [
    "From the bar plots above, we can see that most of the data lies in the Customers that have/Ever_Married. Also, 62.2% of the Customers have graduated where the rest 37.8% haven't.\n",
    "\n",
    "Most of the Customers seems to have Profession as an Artist (2516), then followed by Healthcare (1332). The third among this is customers who works in Entertainment industry (949), followed by Enginer (688), Doctor (623), and Lawyer (599). The rest is in Marketing and Homemaker industry.\n",
    "\n",
    "From the anonymised data, which is 'Var_1', we can see that most Customers are in Cat_6 (5238) tremendously, followed by Cat_4 (1089) and Cat_3 (822). The least customers are in Cat_1 and Cat_5. Perhaps this Var_1 has quite a great influence towards the Customer Segmentation.\n",
    "\n",
    "To see further into this, let's break it down one by one."
   ]
  },
  {
   "cell_type": "code",
   "execution_count": 318,
   "metadata": {},
   "outputs": [],
   "source": [
    "def plotting(y_, hue_, data_):\n",
    "    g = sns.catplot(y=y_, hue=hue_, kind=\"count\",\n",
    "                palette =\"Set2\", data=data_, \n",
    "                height=6, aspect=11.7/9)\n",
    "\n",
    "    plt.title(f'Distribution of {hue_} in Terms of {y_}')\n",
    "    plt.xlabel(\"Frequency\")\n",
    "\n",
    "    total = len(trMod[\"Segmentation\"])\n",
    "    for ax in g.axes.ravel():\n",
    "        for p in ax.patches:\n",
    "            percentage = '{:.1f}%'.format(100 * p.get_width()/total)\n",
    "            x = p.get_x() + p.get_width() + 0.04\n",
    "            y = p.get_y() + p.get_height()/2\n",
    "            ax.annotate(percentage, (x, y))\n",
    "    plt.grid(True)"
   ]
  },
  {
   "cell_type": "markdown",
   "metadata": {},
   "source": [
    "__I. Ever_Married__"
   ]
  },
  {
   "cell_type": "code",
   "execution_count": 264,
   "metadata": {},
   "outputs": [
    {
     "data": {
      "image/png": "[encoded data removed]",
      "text/plain": [
       "<Figure size 635.35x432 with 1 Axes>"
      ]
     },
     "metadata": {
      "needs_background": "light"
     },
     "output_type": "display_data"
    }
   ],
   "source": [
    "g = sns.catplot(y=\"Segmentation\", hue=\"Ever_Married\", kind=\"count\",\n",
    "            palette =\"Set2\", data=trMod, \n",
    "            height=6, aspect=11.7/9)\n",
    "\n",
    "plt.title('Distribution of Segmentations in Terms of Marriage')\n",
    "plt.xlabel(\"Frequency\")\n",
    "\n",
    "total = len(trMod[\"Segmentation\"])\n",
    "for ax in g.axes.ravel():\n",
    "    for p in ax.patches:\n",
    "        percentage = '{:.1f}%'.format(100 * p.get_width()/total)\n",
    "        x = p.get_x() + p.get_width() + 0.04\n",
    "        y = p.get_y() + p.get_height()/2\n",
    "        ax.annotate(percentage, (x, y))\n",
    "plt.grid(True)"
   ]
  },
  {
   "cell_type": "markdown",
   "metadata": {},
   "source": [
    "__Comments on Ever_Married Distribution__\n",
    "\n",
    "There are 140 null data, which contributes to 1.74% of the overall data.\n",
    "The values are either 'Yes' or 'No'.\n",
    "\n",
    "- In Segmentation A, B, and C, most of the customers are married.\n",
    "- In Segmentation A, there is only 4.2% difference between the \"Yes\" (14.1%) and \"No\" (9.9%).\n",
    "- In Segmentation B, the difference are quite significant, where the \"Yes\" is almost 3 times of the \"No\".\n",
    "- Segmentation C seems to have the most significance, the difference between the \"Yes\" values are almost 4 times of the \"No\" values.\n",
    "- Segmentation D seems to be the one very different, where most the customers are not married (19.9%). Also, of all the 8 segmentations, the most numbers can be found in Segmentation D Ever_Married \"No\".\n",
    "- The top 3 are Segmentation D \"No\", Segmentation C \"Yes\", and Segmentation B \"No\" with the numbers of 19.9%, 19.2% and 16.7% respectively."
   ]
  },
  {
   "cell_type": "code",
   "execution_count": 321,
   "metadata": {},
   "outputs": [
    {
     "data": {
      "text/html": [
       "<div>\n",
       "<style scoped>\n",
       "    .dataframe tbody tr th:only-of-type {\n",
       "        vertical-align: middle;\n",
       "    }\n",
       "\n",
       "    .dataframe tbody tr th {\n",
       "        vertical-align: top;\n",
       "    }\n",
       "\n",
       "    .dataframe thead th {\n",
       "        text-align: right;\n",
       "    }\n",
       "</style>\n",
       "<table border=\"1\" class=\"dataframe\">\n",
       "  <thead>\n",
       "    <tr style=\"text-align: right;\">\n",
       "      <th></th>\n",
       "      <th>ID</th>\n",
       "      <th>Gender</th>\n",
       "      <th>Ever_Married</th>\n",
       "      <th>Age</th>\n",
       "      <th>Graduated</th>\n",
       "      <th>Profession</th>\n",
       "      <th>Work_Experience</th>\n",
       "      <th>Spending_Score</th>\n",
       "      <th>Family_Size</th>\n",
       "      <th>Var_1</th>\n",
       "      <th>Segmentation</th>\n",
       "    </tr>\n",
       "  </thead>\n",
       "  <tbody>\n",
       "    <tr>\n",
       "      <th>0</th>\n",
       "      <td>462809</td>\n",
       "      <td>Male</td>\n",
       "      <td>0</td>\n",
       "      <td>22</td>\n",
       "      <td>No</td>\n",
       "      <td>Healthcare</td>\n",
       "      <td>1.0</td>\n",
       "      <td>Low</td>\n",
       "      <td>4.0</td>\n",
       "      <td>Cat_4</td>\n",
       "      <td>D</td>\n",
       "    </tr>\n",
       "    <tr>\n",
       "      <th>1</th>\n",
       "      <td>462643</td>\n",
       "      <td>Female</td>\n",
       "      <td>1</td>\n",
       "      <td>38</td>\n",
       "      <td>Yes</td>\n",
       "      <td>Engineer</td>\n",
       "      <td>NaN</td>\n",
       "      <td>Average</td>\n",
       "      <td>3.0</td>\n",
       "      <td>Cat_4</td>\n",
       "      <td>A</td>\n",
       "    </tr>\n",
       "    <tr>\n",
       "      <th>2</th>\n",
       "      <td>466315</td>\n",
       "      <td>Female</td>\n",
       "      <td>1</td>\n",
       "      <td>67</td>\n",
       "      <td>Yes</td>\n",
       "      <td>Engineer</td>\n",
       "      <td>1.0</td>\n",
       "      <td>Low</td>\n",
       "      <td>1.0</td>\n",
       "      <td>Cat_6</td>\n",
       "      <td>B</td>\n",
       "    </tr>\n",
       "    <tr>\n",
       "      <th>3</th>\n",
       "      <td>461735</td>\n",
       "      <td>Male</td>\n",
       "      <td>1</td>\n",
       "      <td>67</td>\n",
       "      <td>Yes</td>\n",
       "      <td>Lawyer</td>\n",
       "      <td>0.0</td>\n",
       "      <td>High</td>\n",
       "      <td>2.0</td>\n",
       "      <td>Cat_6</td>\n",
       "      <td>B</td>\n",
       "    </tr>\n",
       "    <tr>\n",
       "      <th>4</th>\n",
       "      <td>462669</td>\n",
       "      <td>Female</td>\n",
       "      <td>1</td>\n",
       "      <td>40</td>\n",
       "      <td>Yes</td>\n",
       "      <td>Entertainment</td>\n",
       "      <td>NaN</td>\n",
       "      <td>High</td>\n",
       "      <td>6.0</td>\n",
       "      <td>Cat_6</td>\n",
       "      <td>A</td>\n",
       "    </tr>\n",
       "  </tbody>\n",
       "</table>\n",
       "</div>"
      ],
      "text/plain": [
       "       ID  Gender  Ever_Married  Age Graduated     Profession  \\\n",
       "0  462809    Male             0   22        No     Healthcare   \n",
       "1  462643  Female             1   38       Yes       Engineer   \n",
       "2  466315  Female             1   67       Yes       Engineer   \n",
       "3  461735    Male             1   67       Yes         Lawyer   \n",
       "4  462669  Female             1   40       Yes  Entertainment   \n",
       "\n",
       "   Work_Experience Spending_Score  Family_Size  Var_1 Segmentation  \n",
       "0              1.0            Low          4.0  Cat_4            D  \n",
       "1              NaN        Average          3.0  Cat_4            A  \n",
       "2              1.0            Low          1.0  Cat_6            B  \n",
       "3              0.0           High          2.0  Cat_6            B  \n",
       "4              NaN           High          6.0  Cat_6            A  "
      ]
     },
     "execution_count": 321,
     "metadata": {},
     "output_type": "execute_result"
    }
   ],
   "source": [
    "# Change the value of Ever_Married into number\n",
    "# X_ will be the final target for the simulation\n",
    "# For the moment, the null value will be filled with \"-1\".\n",
    "\n",
    "X_ = dfTr.copy(deep=True)\n",
    "X_['Ever_Married'] = X_['Ever_Married'].apply(lambda val: 1 if val == 'Yes' else (0 if val == 'No' else -1))\n",
    "X_.head()"
   ]
  },
  {
   "cell_type": "code",
   "execution_count": 289,
   "metadata": {},
   "outputs": [
    {
     "data": {
      "text/plain": [
       "count    8068.000000\n",
       "mean       43.466906\n",
       "std        16.711696\n",
       "min        18.000000\n",
       "25%        30.000000\n",
       "50%        40.000000\n",
       "75%        53.000000\n",
       "max        89.000000\n",
       "Name: Age, dtype: float64"
      ]
     },
     "execution_count": 289,
     "metadata": {},
     "output_type": "execute_result"
    }
   ],
   "source": [
    "dfTr.Age.describe()"
   ]
  },
  {
   "cell_type": "code",
   "execution_count": 301,
   "metadata": {},
   "outputs": [
    {
     "data": {
      "text/plain": [
       "Yes    3486\n",
       "No      699\n",
       "Name: Ever_Married, dtype: int64"
      ]
     },
     "execution_count": 301,
     "metadata": {},
     "output_type": "execute_result"
    }
   ],
   "source": [
    "dfTr[dfTr[\"Age\"]>=40]['Ever_Married'].value_counts()"
   ]
  },
  {
   "cell_type": "code",
   "execution_count": 302,
   "metadata": {},
   "outputs": [
    {
     "data": {
      "text/plain": [
       "No     2586\n",
       "Yes    1157\n",
       "Name: Ever_Married, dtype: int64"
      ]
     },
     "execution_count": 302,
     "metadata": {},
     "output_type": "execute_result"
    }
   ],
   "source": [
    "dfTr[dfTr[\"Age\"]<40]['Ever_Married'].value_counts()"
   ]
  },
  {
   "cell_type": "markdown",
   "metadata": {},
   "source": [
    "__II. Graduated__"
   ]
  },
  {
   "cell_type": "code",
   "execution_count": 315,
   "metadata": {},
   "outputs": [
    {
     "data": {
      "text/plain": [
       "<matplotlib.axes._subplots.AxesSubplot at 0x1a267d9f60>"
      ]
     },
     "execution_count": 315,
     "metadata": {},
     "output_type": "execute_result"
    },
    {
     "data": {
      "image/png": "[encoded data removed]",
      "text/plain": [
       "<Figure size 432x288 with 1 Axes>"
      ]
     },
     "metadata": {
      "needs_background": "light"
     },
     "output_type": "display_data"
    }
   ],
   "source": [
    "sns.countplot(dfTr[\"Graduated\"].dropna(), hue = dfTr[\"Ever_Married\"])"
   ]
  },
  {
   "cell_type": "markdown",
   "metadata": {},
   "source": [
    "The distribution of customers that have not Graduated is quite even where the Ever_Married is \"No\". However it's quite significant on the Graduated customers, whereas they are mostly married, with the value twice the customers that are single.\n",
    "\n",
    "Let's take a look even more."
   ]
  },
  {
   "cell_type": "code",
   "execution_count": 317,
   "metadata": {},
   "outputs": [
    {
     "data": {
      "image/png": "[encoded data removed]",
      "text/plain": [
       "<Figure size 639.6x432 with 1 Axes>"
      ]
     },
     "metadata": {
      "needs_background": "light"
     },
     "output_type": "display_data"
    }
   ],
   "source": [
    "plotting(\"Graduated\", \"Segmentation\", dfTr)"
   ]
  },
  {
   "cell_type": "markdown",
   "metadata": {},
   "source": [
    "- The customers that have not Graduated, seems to be occupied by Segmentation D with the value of 17.8%. After that are followed by A, B, C respectively with each values less than 10%.\n",
    "\n",
    "- The customers that have Graduated, is mostly in Segmentation C with the number of 19.9%. After that are followed by Segmentation B and A, and lastly are Segmentation D.\n",
    "\n",
    "- From here, we can conclude that most Customers that have Graduated tend to be in Segmentation C, B and A. Whereas those who have not Graduated tend to be in Segmentation D.\n"
   ]
  },
  {
   "cell_type": "code",
   "execution_count": 322,
   "metadata": {},
   "outputs": [
    {
     "data": {
      "text/html": [
       "<div>\n",
       "<style scoped>\n",
       "    .dataframe tbody tr th:only-of-type {\n",
       "        vertical-align: middle;\n",
       "    }\n",
       "\n",
       "    .dataframe tbody tr th {\n",
       "        vertical-align: top;\n",
       "    }\n",
       "\n",
       "    .dataframe thead th {\n",
       "        text-align: right;\n",
       "    }\n",
       "</style>\n",
       "<table border=\"1\" class=\"dataframe\">\n",
       "  <thead>\n",
       "    <tr style=\"text-align: right;\">\n",
       "      <th></th>\n",
       "      <th>ID</th>\n",
       "      <th>Gender</th>\n",
       "      <th>Ever_Married</th>\n",
       "      <th>Age</th>\n",
       "      <th>Graduated</th>\n",
       "      <th>Profession</th>\n",
       "      <th>Work_Experience</th>\n",
       "      <th>Spending_Score</th>\n",
       "      <th>Family_Size</th>\n",
       "      <th>Var_1</th>\n",
       "      <th>Segmentation</th>\n",
       "    </tr>\n",
       "  </thead>\n",
       "  <tbody>\n",
       "    <tr>\n",
       "      <th>0</th>\n",
       "      <td>462809</td>\n",
       "      <td>Male</td>\n",
       "      <td>0</td>\n",
       "      <td>22</td>\n",
       "      <td>0</td>\n",
       "      <td>Healthcare</td>\n",
       "      <td>1.0</td>\n",
       "      <td>Low</td>\n",
       "      <td>4.0</td>\n",
       "      <td>Cat_4</td>\n",
       "      <td>D</td>\n",
       "    </tr>\n",
       "    <tr>\n",
       "      <th>1</th>\n",
       "      <td>462643</td>\n",
       "      <td>Female</td>\n",
       "      <td>1</td>\n",
       "      <td>38</td>\n",
       "      <td>1</td>\n",
       "      <td>Engineer</td>\n",
       "      <td>NaN</td>\n",
       "      <td>Average</td>\n",
       "      <td>3.0</td>\n",
       "      <td>Cat_4</td>\n",
       "      <td>A</td>\n",
       "    </tr>\n",
       "    <tr>\n",
       "      <th>2</th>\n",
       "      <td>466315</td>\n",
       "      <td>Female</td>\n",
       "      <td>1</td>\n",
       "      <td>67</td>\n",
       "      <td>1</td>\n",
       "      <td>Engineer</td>\n",
       "      <td>1.0</td>\n",
       "      <td>Low</td>\n",
       "      <td>1.0</td>\n",
       "      <td>Cat_6</td>\n",
       "      <td>B</td>\n",
       "    </tr>\n",
       "    <tr>\n",
       "      <th>3</th>\n",
       "      <td>461735</td>\n",
       "      <td>Male</td>\n",
       "      <td>1</td>\n",
       "      <td>67</td>\n",
       "      <td>1</td>\n",
       "      <td>Lawyer</td>\n",
       "      <td>0.0</td>\n",
       "      <td>High</td>\n",
       "      <td>2.0</td>\n",
       "      <td>Cat_6</td>\n",
       "      <td>B</td>\n",
       "    </tr>\n",
       "    <tr>\n",
       "      <th>4</th>\n",
       "      <td>462669</td>\n",
       "      <td>Female</td>\n",
       "      <td>1</td>\n",
       "      <td>40</td>\n",
       "      <td>1</td>\n",
       "      <td>Entertainment</td>\n",
       "      <td>NaN</td>\n",
       "      <td>High</td>\n",
       "      <td>6.0</td>\n",
       "      <td>Cat_6</td>\n",
       "      <td>A</td>\n",
       "    </tr>\n",
       "  </tbody>\n",
       "</table>\n",
       "</div>"
      ],
      "text/plain": [
       "       ID  Gender  Ever_Married  Age  Graduated     Profession  \\\n",
       "0  462809    Male             0   22          0     Healthcare   \n",
       "1  462643  Female             1   38          1       Engineer   \n",
       "2  466315  Female             1   67          1       Engineer   \n",
       "3  461735    Male             1   67          1         Lawyer   \n",
       "4  462669  Female             1   40          1  Entertainment   \n",
       "\n",
       "   Work_Experience Spending_Score  Family_Size  Var_1 Segmentation  \n",
       "0              1.0            Low          4.0  Cat_4            D  \n",
       "1              NaN        Average          3.0  Cat_4            A  \n",
       "2              1.0            Low          1.0  Cat_6            B  \n",
       "3              0.0           High          2.0  Cat_6            B  \n",
       "4              NaN           High          6.0  Cat_6            A  "
      ]
     },
     "execution_count": 322,
     "metadata": {},
     "output_type": "execute_result"
    }
   ],
   "source": [
    "# Change the value of Graduated into number\n",
    "# X_ will be the final data for the simulating the target (Y)\n",
    "# For the moment, the null value will be filled with \"-1\".\n",
    "\n",
    "X_['Graduated'] = X_['Graduated'].apply(lambda val: 1 if val == 'Yes' else (0 if val == 'No' else -1))\n",
    "X_.head()"
   ]
  },
  {
   "cell_type": "markdown",
   "metadata": {},
   "source": [
    "__III. Spending_Score__"
   ]
  },
  {
   "cell_type": "code",
   "execution_count": 326,
   "metadata": {},
   "outputs": [
    {
     "name": "stdout",
     "output_type": "stream",
     "text": [
      "['Low' 'Average' 'High']\n",
      "0\n"
     ]
    }
   ],
   "source": [
    "print(dfTr['Spending_Score'].unique())\n",
    "print(dfTr.Spending_Score.isnull().sum())"
   ]
  },
  {
   "cell_type": "code",
   "execution_count": 327,
   "metadata": {},
   "outputs": [
    {
     "data": {
      "image/png": "[encoded data removed]",
      "text/plain": [
       "<Figure size 639.6x432 with 1 Axes>"
      ]
     },
     "metadata": {
      "needs_background": "light"
     },
     "output_type": "display_data"
    }
   ],
   "source": [
    "plotting(\"Spending_Score\", \"Segmentation\", dfTr)"
   ]
  },
  {
   "cell_type": "markdown",
   "metadata": {},
   "source": [
    "#### Comments\n",
    "\n",
    "- Segmentation D - Spending_Score Low occupies almost 25% of the data. And in S_S Average and High, always ranks the lowest. Therefore, we can conclude that Segmentation D tends to spend the lowest among all Segmentation. Which may be not really profitable towards the automobile company. Needs to target less Segmentation D.\n",
    "\n",
    "- Segmentation C seems to often spend High or Average. In S_S Average, Segmentation C adds up the most, 11.2%. Whereas in S_S High contributes towards 5% of the data, which is around 800 customers.\n",
    "\n",
    "- Segmentation B always ranks 2 in Average and High Spending_Score. In S_S high, it is almost similar to Segmentation D, which is 4.8%. Whereas in S_S Average also quite high, which is 7.3%.\n",
    "\n",
    "- Segmentation A also tends to spend low, contributing to 16.8% of the whole data. However, the amount of customers in Segmentation A who spends high also quite high comparing to the others, which is 3.4%.\n",
    "\n",
    "- Based on this, the __most profitable__ are in this order: Segmentation C, Segmentation B, Segmentation A, Segmentation D. The model built needs to predict what kind of Customers tend to fall in __Segmentation C and B.__"
   ]
  },
  {
   "cell_type": "markdown",
   "metadata": {},
   "source": [
    "Since Spending_Score seems to be the most significant features in the Business Decision, let's evaluate this features further."
   ]
  },
  {
   "cell_type": "code",
   "execution_count": 338,
   "metadata": {},
   "outputs": [
    {
     "name": "stdout",
     "output_type": "stream",
     "text": [
      "Spending_Score  Graduated\n",
      "Average         Yes          1450\n",
      "                No            503\n",
      "High            Yes           780\n",
      "                No            425\n",
      "Low             Yes          2738\n",
      "                No           2094\n",
      "Name: Graduated, dtype: int64\n",
      "\n",
      "\n",
      "Spending_Score  Ever_Married\n",
      "Average         Yes             1937\n",
      "High            Yes             1176\n",
      "Low             No              3285\n",
      "                Yes             1530\n",
      "Name: Ever_Married, dtype: int64\n",
      "\n",
      "\n",
      "Spending_Score  Gender\n",
      "Average         Male      1143\n",
      "                Female     831\n",
      "High            Male       726\n",
      "                Female     490\n",
      "Low             Male      2548\n",
      "                Female    2330\n",
      "Name: Gender, dtype: int64\n"
     ]
    }
   ],
   "source": [
    "print(dfTr.groupby(\"Spending_Score\")[\"Graduated\"].value_counts())\n",
    "print(\"\\n\")\n",
    "print(dfTr.groupby(\"Spending_Score\")[\"Ever_Married\"].value_counts())\n",
    "print(\"\\n\")\n",
    "print(dfTr.groupby(\"Spending_Score\")[\"Gender\"].value_counts())"
   ]
  },
  {
   "cell_type": "markdown",
   "metadata": {},
   "source": [
    "- From the data above, we can see that customers who have graduated are always higher than the not-graduated customers on every Spending Score. The most significant value can be found in Spending Score Average, with almost 3 times of the customers have graduated. However, in the low Spending Score we can see that it's almost similar with the ratio of the not graduated and graduated around 56%:43%.\n",
    "\n",
    "- Customers who have never married are mostly distributed in Low Spending Score, which is 41.4% of all the customers. The rest 58.6% of the customers are distributed evenly in all types of Spending Score, with the most fall on Spending Score Average and Low, with the least found in Spending Score High.\n",
    "\n",
    "- Based on Gender, between Male and Female, Male seems to have more tendency to Spending more in High and average. In the low spending score we can see that both Male and Female are evenly distributed."
   ]
  },
  {
   "cell_type": "code",
   "execution_count": 342,
   "metadata": {},
   "outputs": [
    {
     "data": {
      "text/plain": [
       "<matplotlib.axes._subplots.AxesSubplot at 0x1a2a259c18>"
      ]
     },
     "execution_count": 342,
     "metadata": {},
     "output_type": "execute_result"
    },
    {
     "data": {
      "image/png": "[encoded data removed]",
      "text/plain": [
       "<Figure size 864x576 with 2 Axes>"
      ]
     },
     "metadata": {
      "needs_background": "light"
     },
     "output_type": "display_data"
    }
   ],
   "source": [
    "# Label Encoding Spending_Score Column\n",
    "\n",
    "oneHsp = X_.copy(deep=True).drop('Segmentation', axis=1)\n",
    "oneHsp['Spending_Score'] = pd.Categorical(oneHsp['Spending_Score'])\n",
    "dfDummies = pd.get_dummies(oneHsp['Spending_Score'], prefix = 'Spend')\n",
    "oneHsp_ = pd.concat([oneHsp, dfDummies], axis=1).drop('Spending_Score',\n",
    "                                                       axis = 1)\n",
    "\n",
    "# Plotting the Correlation\n",
    "\n",
    "plt.figure(figsize=(12,8))\n",
    "plt.title('Correlation Towards Spending Score')\n",
    "sns.heatmap(oneHsp_.corr(), annot=True)"
   ]
  },
  {
   "cell_type": "code",
   "execution_count": 360,
   "metadata": {},
   "outputs": [
    {
     "data": {
      "text/html": [
       "<div>\n",
       "<style scoped>\n",
       "    .dataframe tbody tr th:only-of-type {\n",
       "        vertical-align: middle;\n",
       "    }\n",
       "\n",
       "    .dataframe tbody tr th {\n",
       "        vertical-align: top;\n",
       "    }\n",
       "\n",
       "    .dataframe thead th {\n",
       "        text-align: right;\n",
       "    }\n",
       "</style>\n",
       "<table border=\"1\" class=\"dataframe\">\n",
       "  <thead>\n",
       "    <tr style=\"text-align: right;\">\n",
       "      <th></th>\n",
       "      <th>ID</th>\n",
       "      <th>Gender</th>\n",
       "      <th>Ever_Married</th>\n",
       "      <th>Age</th>\n",
       "      <th>Graduated</th>\n",
       "      <th>Profession</th>\n",
       "      <th>Work_Experience</th>\n",
       "      <th>Family_Size</th>\n",
       "      <th>Var_1</th>\n",
       "      <th>Spend_Average</th>\n",
       "      <th>Spend_High</th>\n",
       "      <th>Spend_Low</th>\n",
       "    </tr>\n",
       "  </thead>\n",
       "  <tbody>\n",
       "    <tr>\n",
       "      <th>0</th>\n",
       "      <td>462809</td>\n",
       "      <td>Male</td>\n",
       "      <td>0</td>\n",
       "      <td>22</td>\n",
       "      <td>0</td>\n",
       "      <td>Healthcare</td>\n",
       "      <td>1.0</td>\n",
       "      <td>4.0</td>\n",
       "      <td>Cat_4</td>\n",
       "      <td>0</td>\n",
       "      <td>0</td>\n",
       "      <td>1</td>\n",
       "    </tr>\n",
       "    <tr>\n",
       "      <th>1</th>\n",
       "      <td>462643</td>\n",
       "      <td>Female</td>\n",
       "      <td>1</td>\n",
       "      <td>38</td>\n",
       "      <td>1</td>\n",
       "      <td>Engineer</td>\n",
       "      <td>NaN</td>\n",
       "      <td>3.0</td>\n",
       "      <td>Cat_4</td>\n",
       "      <td>1</td>\n",
       "      <td>0</td>\n",
       "      <td>0</td>\n",
       "    </tr>\n",
       "    <tr>\n",
       "      <th>2</th>\n",
       "      <td>466315</td>\n",
       "      <td>Female</td>\n",
       "      <td>1</td>\n",
       "      <td>67</td>\n",
       "      <td>1</td>\n",
       "      <td>Engineer</td>\n",
       "      <td>1.0</td>\n",
       "      <td>1.0</td>\n",
       "      <td>Cat_6</td>\n",
       "      <td>0</td>\n",
       "      <td>0</td>\n",
       "      <td>1</td>\n",
       "    </tr>\n",
       "    <tr>\n",
       "      <th>3</th>\n",
       "      <td>461735</td>\n",
       "      <td>Male</td>\n",
       "      <td>1</td>\n",
       "      <td>67</td>\n",
       "      <td>1</td>\n",
       "      <td>Lawyer</td>\n",
       "      <td>0.0</td>\n",
       "      <td>2.0</td>\n",
       "      <td>Cat_6</td>\n",
       "      <td>0</td>\n",
       "      <td>1</td>\n",
       "      <td>0</td>\n",
       "    </tr>\n",
       "    <tr>\n",
       "      <th>4</th>\n",
       "      <td>462669</td>\n",
       "      <td>Female</td>\n",
       "      <td>1</td>\n",
       "      <td>40</td>\n",
       "      <td>1</td>\n",
       "      <td>Entertainment</td>\n",
       "      <td>NaN</td>\n",
       "      <td>6.0</td>\n",
       "      <td>Cat_6</td>\n",
       "      <td>0</td>\n",
       "      <td>1</td>\n",
       "      <td>0</td>\n",
       "    </tr>\n",
       "  </tbody>\n",
       "</table>\n",
       "</div>"
      ],
      "text/plain": [
       "       ID  Gender  Ever_Married  Age  Graduated     Profession  \\\n",
       "0  462809    Male             0   22          0     Healthcare   \n",
       "1  462643  Female             1   38          1       Engineer   \n",
       "2  466315  Female             1   67          1       Engineer   \n",
       "3  461735    Male             1   67          1         Lawyer   \n",
       "4  462669  Female             1   40          1  Entertainment   \n",
       "\n",
       "   Work_Experience  Family_Size  Var_1  Spend_Average  Spend_High  Spend_Low  \n",
       "0              1.0          4.0  Cat_4              0           0          1  \n",
       "1              NaN          3.0  Cat_4              1           0          0  \n",
       "2              1.0          1.0  Cat_6              0           0          1  \n",
       "3              0.0          2.0  Cat_6              0           1          0  \n",
       "4              NaN          6.0  Cat_6              0           1          0  "
      ]
     },
     "execution_count": 360,
     "metadata": {},
     "output_type": "execute_result"
    }
   ],
   "source": [
    "oneHsp_.head()"
   ]
  },
  {
   "cell_type": "markdown",
   "metadata": {},
   "source": [
    "__Comments on Spending_Score__\n",
    "\n",
    "- Marriage seems to affect most in Spending_Average, the Single Customers tend to spend average or High. The influence is quite high, 43% effects on Spending_Average and 30% on Spending_High. \n",
    "\n",
    "- Age also plays quite an important role. The older the Age, the more tendency to Spend_High (36%). Whereas the younger the Age, more tendency to Spend_Low (-37%). \n",
    "\n",
    "- Graduated Customers tend to spend average, but it doesn't impact significantly on High Spending Score. Thus, the degree of customers don't really influence much on the Spending Score.\n",
    "\n",
    "- Work Experience also doesn't influence much, the more experience the customer has, the more tendency to spend low. However, it's not that much relevant, since the correlation is below 7%.\n",
    "\n",
    "- Family Size is also quite similar like Work Experience, influencing less than 10%. However, we can see the pattern that the higher the Family Size, the more tendency to Spend Average (9.6%) and High (3.9%). Unfortunately, it's not as impactful as Marriage and Age.\n"
   ]
  },
  {
   "cell_type": "code",
   "execution_count": 363,
   "metadata": {},
   "outputs": [
    {
     "data": {
      "text/html": [
       "<div>\n",
       "<style scoped>\n",
       "    .dataframe tbody tr th:only-of-type {\n",
       "        vertical-align: middle;\n",
       "    }\n",
       "\n",
       "    .dataframe tbody tr th {\n",
       "        vertical-align: top;\n",
       "    }\n",
       "\n",
       "    .dataframe thead th {\n",
       "        text-align: right;\n",
       "    }\n",
       "</style>\n",
       "<table border=\"1\" class=\"dataframe\">\n",
       "  <thead>\n",
       "    <tr style=\"text-align: right;\">\n",
       "      <th></th>\n",
       "      <th>ID</th>\n",
       "      <th>Gender</th>\n",
       "      <th>Ever_Married</th>\n",
       "      <th>Age</th>\n",
       "      <th>Graduated</th>\n",
       "      <th>Profession</th>\n",
       "      <th>Work_Experience</th>\n",
       "      <th>Spending_Score</th>\n",
       "      <th>Family_Size</th>\n",
       "      <th>Var_1</th>\n",
       "      <th>Segmentation</th>\n",
       "    </tr>\n",
       "  </thead>\n",
       "  <tbody>\n",
       "    <tr>\n",
       "      <th>0</th>\n",
       "      <td>462809</td>\n",
       "      <td>1</td>\n",
       "      <td>0</td>\n",
       "      <td>22</td>\n",
       "      <td>0</td>\n",
       "      <td>Healthcare</td>\n",
       "      <td>1.0</td>\n",
       "      <td>0</td>\n",
       "      <td>4.0</td>\n",
       "      <td>Cat_4</td>\n",
       "      <td>D</td>\n",
       "    </tr>\n",
       "    <tr>\n",
       "      <th>1</th>\n",
       "      <td>462643</td>\n",
       "      <td>0</td>\n",
       "      <td>1</td>\n",
       "      <td>38</td>\n",
       "      <td>1</td>\n",
       "      <td>Engineer</td>\n",
       "      <td>NaN</td>\n",
       "      <td>1</td>\n",
       "      <td>3.0</td>\n",
       "      <td>Cat_4</td>\n",
       "      <td>A</td>\n",
       "    </tr>\n",
       "    <tr>\n",
       "      <th>2</th>\n",
       "      <td>466315</td>\n",
       "      <td>0</td>\n",
       "      <td>1</td>\n",
       "      <td>67</td>\n",
       "      <td>1</td>\n",
       "      <td>Engineer</td>\n",
       "      <td>1.0</td>\n",
       "      <td>0</td>\n",
       "      <td>1.0</td>\n",
       "      <td>Cat_6</td>\n",
       "      <td>B</td>\n",
       "    </tr>\n",
       "    <tr>\n",
       "      <th>3</th>\n",
       "      <td>461735</td>\n",
       "      <td>1</td>\n",
       "      <td>1</td>\n",
       "      <td>67</td>\n",
       "      <td>1</td>\n",
       "      <td>Lawyer</td>\n",
       "      <td>0.0</td>\n",
       "      <td>2</td>\n",
       "      <td>2.0</td>\n",
       "      <td>Cat_6</td>\n",
       "      <td>B</td>\n",
       "    </tr>\n",
       "    <tr>\n",
       "      <th>4</th>\n",
       "      <td>462669</td>\n",
       "      <td>0</td>\n",
       "      <td>1</td>\n",
       "      <td>40</td>\n",
       "      <td>1</td>\n",
       "      <td>Entertainment</td>\n",
       "      <td>NaN</td>\n",
       "      <td>2</td>\n",
       "      <td>6.0</td>\n",
       "      <td>Cat_6</td>\n",
       "      <td>A</td>\n",
       "    </tr>\n",
       "  </tbody>\n",
       "</table>\n",
       "</div>"
      ],
      "text/plain": [
       "       ID  Gender  Ever_Married  Age  Graduated     Profession  \\\n",
       "0  462809       1             0   22          0     Healthcare   \n",
       "1  462643       0             1   38          1       Engineer   \n",
       "2  466315       0             1   67          1       Engineer   \n",
       "3  461735       1             1   67          1         Lawyer   \n",
       "4  462669       0             1   40          1  Entertainment   \n",
       "\n",
       "   Work_Experience  Spending_Score  Family_Size  Var_1 Segmentation  \n",
       "0              1.0               0          4.0  Cat_4            D  \n",
       "1              NaN               1          3.0  Cat_4            A  \n",
       "2              1.0               0          1.0  Cat_6            B  \n",
       "3              0.0               2          2.0  Cat_6            B  \n",
       "4              NaN               2          6.0  Cat_6            A  "
      ]
     },
     "execution_count": 363,
     "metadata": {},
     "output_type": "execute_result"
    }
   ],
   "source": [
    "# Change the value of Spending_Score into number\n",
    "# Since it is ordinal data, we can use manual Encoder to speed up the model later on\n",
    "\n",
    "X_2 = X_.copy(deep=True)\n",
    "X_2['Spending_Score'] = X_['Spending_Score'].apply(lambda val: 2 if val == 'High' else (1 if val == 'Average' else 0))\n",
    "\n",
    "# Change the value of Gender into number\n",
    "# Since Male tends to spend more, we label Male as 1 and Female as 0\n",
    "\n",
    "X_3 = X_2.copy(deep=True)\n",
    "X_3['Gender'] = X_['Gender'].apply(lambda val: 1 if val == 'Male' else 0)\n",
    "X_3.head()"
   ]
  },
  {
   "cell_type": "code",
   "execution_count": 367,
   "metadata": {},
   "outputs": [
    {
     "data": {
      "text/html": [
       "<div>\n",
       "<style scoped>\n",
       "    .dataframe tbody tr th:only-of-type {\n",
       "        vertical-align: middle;\n",
       "    }\n",
       "\n",
       "    .dataframe tbody tr th {\n",
       "        vertical-align: top;\n",
       "    }\n",
       "\n",
       "    .dataframe thead th {\n",
       "        text-align: right;\n",
       "    }\n",
       "</style>\n",
       "<table border=\"1\" class=\"dataframe\">\n",
       "  <thead>\n",
       "    <tr style=\"text-align: right;\">\n",
       "      <th></th>\n",
       "      <th>dataFeatures</th>\n",
       "      <th>dataType</th>\n",
       "      <th>null</th>\n",
       "      <th>nullPct</th>\n",
       "      <th>unique</th>\n",
       "      <th>uniqueSample</th>\n",
       "    </tr>\n",
       "  </thead>\n",
       "  <tbody>\n",
       "    <tr>\n",
       "      <th>0</th>\n",
       "      <td>ID</td>\n",
       "      <td>int64</td>\n",
       "      <td>0</td>\n",
       "      <td>0.00</td>\n",
       "      <td>8068</td>\n",
       "      <td>[462809, 462643, 466315, 461735, 462669]</td>\n",
       "    </tr>\n",
       "    <tr>\n",
       "      <th>1</th>\n",
       "      <td>Gender</td>\n",
       "      <td>int64</td>\n",
       "      <td>0</td>\n",
       "      <td>0.00</td>\n",
       "      <td>2</td>\n",
       "      <td>[1, 0]</td>\n",
       "    </tr>\n",
       "    <tr>\n",
       "      <th>2</th>\n",
       "      <td>Ever_Married</td>\n",
       "      <td>int64</td>\n",
       "      <td>0</td>\n",
       "      <td>0.00</td>\n",
       "      <td>3</td>\n",
       "      <td>[0, 1, -1]</td>\n",
       "    </tr>\n",
       "    <tr>\n",
       "      <th>3</th>\n",
       "      <td>Age</td>\n",
       "      <td>int64</td>\n",
       "      <td>0</td>\n",
       "      <td>0.00</td>\n",
       "      <td>67</td>\n",
       "      <td>[22, 38, 67, 40, 56]</td>\n",
       "    </tr>\n",
       "    <tr>\n",
       "      <th>4</th>\n",
       "      <td>Graduated</td>\n",
       "      <td>int64</td>\n",
       "      <td>0</td>\n",
       "      <td>0.00</td>\n",
       "      <td>3</td>\n",
       "      <td>[0, 1, -1]</td>\n",
       "    </tr>\n",
       "    <tr>\n",
       "      <th>5</th>\n",
       "      <td>Profession</td>\n",
       "      <td>object</td>\n",
       "      <td>124</td>\n",
       "      <td>1.54</td>\n",
       "      <td>9</td>\n",
       "      <td>[Healthcare, Engineer, Lawyer, Entertainment, ...</td>\n",
       "    </tr>\n",
       "    <tr>\n",
       "      <th>6</th>\n",
       "      <td>Work_Experience</td>\n",
       "      <td>float64</td>\n",
       "      <td>829</td>\n",
       "      <td>10.28</td>\n",
       "      <td>15</td>\n",
       "      <td>[1.0, nan, 0.0, 4.0, 9.0]</td>\n",
       "    </tr>\n",
       "    <tr>\n",
       "      <th>7</th>\n",
       "      <td>Spending_Score</td>\n",
       "      <td>int64</td>\n",
       "      <td>0</td>\n",
       "      <td>0.00</td>\n",
       "      <td>3</td>\n",
       "      <td>[0, 1, 2]</td>\n",
       "    </tr>\n",
       "    <tr>\n",
       "      <th>8</th>\n",
       "      <td>Family_Size</td>\n",
       "      <td>float64</td>\n",
       "      <td>335</td>\n",
       "      <td>4.15</td>\n",
       "      <td>9</td>\n",
       "      <td>[4.0, 3.0, 1.0, 2.0, 6.0]</td>\n",
       "    </tr>\n",
       "    <tr>\n",
       "      <th>9</th>\n",
       "      <td>Var_1</td>\n",
       "      <td>object</td>\n",
       "      <td>76</td>\n",
       "      <td>0.94</td>\n",
       "      <td>7</td>\n",
       "      <td>[Cat_4, Cat_6, Cat_7, Cat_3, Cat_1]</td>\n",
       "    </tr>\n",
       "    <tr>\n",
       "      <th>10</th>\n",
       "      <td>Segmentation</td>\n",
       "      <td>object</td>\n",
       "      <td>0</td>\n",
       "      <td>0.00</td>\n",
       "      <td>4</td>\n",
       "      <td>[D, A, B, C]</td>\n",
       "    </tr>\n",
       "  </tbody>\n",
       "</table>\n",
       "</div>"
      ],
      "text/plain": [
       "       dataFeatures dataType  null  nullPct  unique  \\\n",
       "0                ID    int64     0     0.00    8068   \n",
       "1            Gender    int64     0     0.00       2   \n",
       "2      Ever_Married    int64     0     0.00       3   \n",
       "3               Age    int64     0     0.00      67   \n",
       "4         Graduated    int64     0     0.00       3   \n",
       "5        Profession   object   124     1.54       9   \n",
       "6   Work_Experience  float64   829    10.28      15   \n",
       "7    Spending_Score    int64     0     0.00       3   \n",
       "8       Family_Size  float64   335     4.15       9   \n",
       "9             Var_1   object    76     0.94       7   \n",
       "10     Segmentation   object     0     0.00       4   \n",
       "\n",
       "                                         uniqueSample  \n",
       "0            [462809, 462643, 466315, 461735, 462669]  \n",
       "1                                              [1, 0]  \n",
       "2                                          [0, 1, -1]  \n",
       "3                                [22, 38, 67, 40, 56]  \n",
       "4                                          [0, 1, -1]  \n",
       "5   [Healthcare, Engineer, Lawyer, Entertainment, ...  \n",
       "6                           [1.0, nan, 0.0, 4.0, 9.0]  \n",
       "7                                           [0, 1, 2]  \n",
       "8                           [4.0, 3.0, 1.0, 2.0, 6.0]  \n",
       "9                 [Cat_4, Cat_6, Cat_7, Cat_3, Cat_1]  \n",
       "10                                       [D, A, B, C]  "
      ]
     },
     "execution_count": 367,
     "metadata": {},
     "output_type": "execute_result"
    }
   ],
   "source": [
    "# Current X information\n",
    "# Ever_Married, Graduated, Profession, Work_Experience, Family_Size and Var_1 still consisted of Null Values\n",
    "# Needs to be cleansed later on after analyzation is done\n",
    "\n",
    "describeDF(X_3)"
   ]
  },
  {
   "cell_type": "markdown",
   "metadata": {},
   "source": [
    "__IV. Var_1 Column__\n",
    "\n",
    "- Var_1 is one of the customer's anonymised features that is confidential, the factor X of the Segmentation. Although we know nothing about what kind of information lies within this category, let's see the distribution and influence towards Customer Segmentation.\n",
    "\n",
    "- 0.94% of the data obtained for Var_1 contains null values."
   ]
  },
  {
   "cell_type": "code",
   "execution_count": 397,
   "metadata": {},
   "outputs": [
    {
     "data": {
      "text/plain": [
       "0.94"
      ]
     },
     "execution_count": 397,
     "metadata": {},
     "output_type": "execute_result"
    }
   ],
   "source": [
    "round(dfTr.Var_1.isnull().sum()/len(dfTr.Var_1)*100,2)"
   ]
  },
  {
   "cell_type": "code",
   "execution_count": 356,
   "metadata": {},
   "outputs": [
    {
     "data": {
      "text/html": [
       "<div>\n",
       "<style scoped>\n",
       "    .dataframe tbody tr th:only-of-type {\n",
       "        vertical-align: middle;\n",
       "    }\n",
       "\n",
       "    .dataframe tbody tr th {\n",
       "        vertical-align: top;\n",
       "    }\n",
       "\n",
       "    .dataframe thead th {\n",
       "        text-align: right;\n",
       "    }\n",
       "</style>\n",
       "<table border=\"1\" class=\"dataframe\">\n",
       "  <thead>\n",
       "    <tr style=\"text-align: right;\">\n",
       "      <th>Var_1</th>\n",
       "      <th>Cat_1</th>\n",
       "      <th>Cat_2</th>\n",
       "      <th>Cat_3</th>\n",
       "      <th>Cat_4</th>\n",
       "      <th>Cat_5</th>\n",
       "      <th>Cat_6</th>\n",
       "      <th>Cat_7</th>\n",
       "    </tr>\n",
       "    <tr>\n",
       "      <th>Segmentation</th>\n",
       "      <th></th>\n",
       "      <th></th>\n",
       "      <th></th>\n",
       "      <th></th>\n",
       "      <th></th>\n",
       "      <th></th>\n",
       "      <th></th>\n",
       "    </tr>\n",
       "  </thead>\n",
       "  <tbody>\n",
       "    <tr>\n",
       "      <th>A</th>\n",
       "      <td>31</td>\n",
       "      <td>83</td>\n",
       "      <td>223</td>\n",
       "      <td>333</td>\n",
       "      <td>19</td>\n",
       "      <td>1213</td>\n",
       "      <td>51</td>\n",
       "    </tr>\n",
       "    <tr>\n",
       "      <th>B</th>\n",
       "      <td>26</td>\n",
       "      <td>106</td>\n",
       "      <td>186</td>\n",
       "      <td>232</td>\n",
       "      <td>20</td>\n",
       "      <td>1232</td>\n",
       "      <td>43</td>\n",
       "    </tr>\n",
       "    <tr>\n",
       "      <th>C</th>\n",
       "      <td>26</td>\n",
       "      <td>99</td>\n",
       "      <td>154</td>\n",
       "      <td>109</td>\n",
       "      <td>18</td>\n",
       "      <td>1496</td>\n",
       "      <td>47</td>\n",
       "    </tr>\n",
       "    <tr>\n",
       "      <th>D</th>\n",
       "      <td>50</td>\n",
       "      <td>134</td>\n",
       "      <td>259</td>\n",
       "      <td>415</td>\n",
       "      <td>28</td>\n",
       "      <td>1297</td>\n",
       "      <td>62</td>\n",
       "    </tr>\n",
       "  </tbody>\n",
       "</table>\n",
       "</div>"
      ],
      "text/plain": [
       "Var_1         Cat_1  Cat_2  Cat_3  Cat_4  Cat_5  Cat_6  Cat_7\n",
       "Segmentation                                                 \n",
       "A                31     83    223    333     19   1213     51\n",
       "B                26    106    186    232     20   1232     43\n",
       "C                26     99    154    109     18   1496     47\n",
       "D                50    134    259    415     28   1297     62"
      ]
     },
     "execution_count": 356,
     "metadata": {},
     "output_type": "execute_result"
    }
   ],
   "source": [
    "dfTr.groupby(\"Segmentation\")[\"Var_1\"].value_counts().unstack()"
   ]
  },
  {
   "cell_type": "code",
   "execution_count": 413,
   "metadata": {},
   "outputs": [
    {
     "data": {
      "text/plain": [
       "<matplotlib.axes._subplots.AxesSubplot at 0x1a2f96d0f0>"
      ]
     },
     "execution_count": 413,
     "metadata": {},
     "output_type": "execute_result"
    },
    {
     "data": {
      "image/png": "[encoded data removed]",
      "text/plain": [
       "<Figure size 792x432 with 1 Axes>"
      ]
     },
     "metadata": {},
     "output_type": "display_data"
    }
   ],
   "source": [
    "df_plot = dfTr.groupby(['Var_1', 'Segmentation']).size().reset_index().pivot(columns='Var_1', index='Segmentation', values=0)\n",
    "df_plot.plot(kind='bar', stacked=True, figsize=(11,6))"
   ]
  },
  {
   "cell_type": "code",
   "execution_count": 458,
   "metadata": {},
   "outputs": [
    {
     "data": {
      "image/png": "[encoded data removed]",
      "text/plain": [
       "<Figure size 630.825x432 with 1 Axes>"
      ]
     },
     "metadata": {},
     "output_type": "display_data"
    }
   ],
   "source": [
    "plotting(\"Segmentation\", \"Var_1\", dfTr)"
   ]
  },
  {
   "cell_type": "markdown",
   "metadata": {},
   "source": [
    "__Conclusion__\n",
    "\n",
    "- Of all the Segmentations, most customers are in Cat_6. Thus, Cat_6 is the modes in this data.\n",
    "- Cat_1 seems to always be the least in every Segmentations.\n",
    "- Cat_4 ranks #2 in influencing the Segmentations, except in Segmentation C, where Cat_3 has a little more influence (1.9%) than Cat_4 (1.4%).\n",
    "- Cat_2 seems to distribute evenly towards every Segmentations, with the values of 1.0% up to 1.7%.\n",
    "- Thus, we can conclude that if the customer tends to have Cat_3 more than Cat_4, it seems that the customer tends to move towards Segmentation C. However, of all the Var_1, the highest tendency still in Cat_6, with the values ranging from 15% up to 18.5% of the users.\n",
    "- It is better to use OneHotEncoder to encode this features to avoid confusion of the model later on."
   ]
  },
  {
   "cell_type": "markdown",
   "metadata": {},
   "source": [
    "__V. Profession__\n",
    "\n",
    "Profession column has 1.54% of null values, and 9 unique values excluding null."
   ]
  },
  {
   "cell_type": "code",
   "execution_count": 466,
   "metadata": {},
   "outputs": [
    {
     "data": {
      "text/html": [
       "<div>\n",
       "<style scoped>\n",
       "    .dataframe tbody tr th:only-of-type {\n",
       "        vertical-align: middle;\n",
       "    }\n",
       "\n",
       "    .dataframe tbody tr th {\n",
       "        vertical-align: top;\n",
       "    }\n",
       "\n",
       "    .dataframe thead th {\n",
       "        text-align: right;\n",
       "    }\n",
       "</style>\n",
       "<table border=\"1\" class=\"dataframe\">\n",
       "  <thead>\n",
       "    <tr style=\"text-align: right;\">\n",
       "      <th>Profession</th>\n",
       "      <th>Artist</th>\n",
       "      <th>Doctor</th>\n",
       "      <th>Engineer</th>\n",
       "      <th>Entertainment</th>\n",
       "      <th>Executive</th>\n",
       "      <th>Healthcare</th>\n",
       "      <th>Homemaker</th>\n",
       "      <th>Lawyer</th>\n",
       "      <th>Marketing</th>\n",
       "    </tr>\n",
       "    <tr>\n",
       "      <th>Segmentation</th>\n",
       "      <th></th>\n",
       "      <th></th>\n",
       "      <th></th>\n",
       "      <th></th>\n",
       "      <th></th>\n",
       "      <th></th>\n",
       "      <th></th>\n",
       "      <th></th>\n",
       "      <th></th>\n",
       "    </tr>\n",
       "  </thead>\n",
       "  <tbody>\n",
       "    <tr>\n",
       "      <th>A</th>\n",
       "      <td>558</td>\n",
       "      <td>199</td>\n",
       "      <td>259</td>\n",
       "      <td>365</td>\n",
       "      <td>125</td>\n",
       "      <td>106</td>\n",
       "      <td>73</td>\n",
       "      <td>197</td>\n",
       "      <td>57</td>\n",
       "    </tr>\n",
       "    <tr>\n",
       "      <th>B</th>\n",
       "      <td>756</td>\n",
       "      <td>143</td>\n",
       "      <td>189</td>\n",
       "      <td>221</td>\n",
       "      <td>183</td>\n",
       "      <td>101</td>\n",
       "      <td>55</td>\n",
       "      <td>158</td>\n",
       "      <td>30</td>\n",
       "    </tr>\n",
       "    <tr>\n",
       "      <th>C</th>\n",
       "      <td>1065</td>\n",
       "      <td>140</td>\n",
       "      <td>75</td>\n",
       "      <td>148</td>\n",
       "      <td>175</td>\n",
       "      <td>146</td>\n",
       "      <td>28</td>\n",
       "      <td>140</td>\n",
       "      <td>35</td>\n",
       "    </tr>\n",
       "    <tr>\n",
       "      <th>D</th>\n",
       "      <td>137</td>\n",
       "      <td>206</td>\n",
       "      <td>176</td>\n",
       "      <td>215</td>\n",
       "      <td>116</td>\n",
       "      <td>979</td>\n",
       "      <td>90</td>\n",
       "      <td>128</td>\n",
       "      <td>170</td>\n",
       "    </tr>\n",
       "  </tbody>\n",
       "</table>\n",
       "</div>"
      ],
      "text/plain": [
       "Profession    Artist  Doctor  Engineer  Entertainment  Executive  Healthcare  \\\n",
       "Segmentation                                                                   \n",
       "A                558     199       259            365        125         106   \n",
       "B                756     143       189            221        183         101   \n",
       "C               1065     140        75            148        175         146   \n",
       "D                137     206       176            215        116         979   \n",
       "\n",
       "Profession    Homemaker  Lawyer  Marketing  \n",
       "Segmentation                                \n",
       "A                    73     197         57  \n",
       "B                    55     158         30  \n",
       "C                    28     140         35  \n",
       "D                    90     128        170  "
      ]
     },
     "execution_count": 466,
     "metadata": {},
     "output_type": "execute_result"
    }
   ],
   "source": [
    "dfTr.groupby(\"Segmentation\")[\"Profession\"].value_counts().unstack()"
   ]
  },
  {
   "cell_type": "code",
   "execution_count": 465,
   "metadata": {
    "jupyter": {
     "source_hidden": true
    }
   },
   "outputs": [
    {
     "data": {
      "image/png": "[encoded data removed]",
      "text/plain": [
       "<Figure size 670.075x432 with 1 Axes>"
      ]
     },
     "metadata": {},
     "output_type": "display_data"
    }
   ],
   "source": [
    "# Profession Distribution\n",
    "\n",
    "g = sns.catplot(y=\"Segmentation\", hue=\"Profession\", kind=\"count\",\n",
    "            palette =\"Set2\", data=trMod, \n",
    "            height=6, aspect=11.7/9)\n",
    "\n",
    "plt.title('Distribution of Segmentations in Terms of Profession')\n",
    "plt.xlabel(\"Frequency\")\n",
    "\n",
    "total = len(trMod[\"Segmentation\"])\n",
    "for ax in g.axes.ravel():\n",
    "    for p in ax.patches:\n",
    "        percentage = '{:.1f}%'.format(100 * p.get_width()/total)\n",
    "        x = p.get_x() + p.get_width() + 0.04\n",
    "        y = p.get_y() + p.get_height()/2\n",
    "        ax.annotate(percentage, (x, y))\n",
    "plt.grid(True)"
   ]
  },
  {
   "cell_type": "markdown",
   "metadata": {},
   "source": []
  },
  {
   "cell_type": "code",
   "execution_count": null,
   "metadata": {},
   "outputs": [],
   "source": []
  },
  {
   "cell_type": "code",
   "execution_count": null,
   "metadata": {},
   "outputs": [],
   "source": []
  },
  {
   "cell_type": "code",
   "execution_count": null,
   "metadata": {},
   "outputs": [],
   "source": []
  },
  {
   "cell_type": "code",
   "execution_count": 13,
   "metadata": {},
   "outputs": [
    {
     "data": {
      "text/plain": [
       "Artist           2516\n",
       "Healthcare       1332\n",
       "Entertainment     949\n",
       "Engineer          699\n",
       "Doctor            688\n",
       "Lawyer            623\n",
       "Executive         599\n",
       "Marketing         292\n",
       "Homemaker         246\n",
       "Name: Profession, dtype: int64"
      ]
     },
     "execution_count": 13,
     "metadata": {},
     "output_type": "execute_result"
    }
   ],
   "source": [
    "dfTr['Profession'].value_counts()"
   ]
  },
  {
   "cell_type": "code",
   "execution_count": 14,
   "metadata": {},
   "outputs": [
    {
     "data": {
      "text/plain": [
       "2.0    2390\n",
       "3.0    1497\n",
       "1.0    1453\n",
       "4.0    1379\n",
       "5.0     612\n",
       "6.0     212\n",
       "7.0      96\n",
       "8.0      50\n",
       "9.0      44\n",
       "Name: Family_Size, dtype: int64"
      ]
     },
     "execution_count": 14,
     "metadata": {},
     "output_type": "execute_result"
    }
   ],
   "source": [
    "dfTr['Family_Size'].value_counts()"
   ]
  },
  {
   "cell_type": "code",
   "execution_count": 15,
   "metadata": {},
   "outputs": [
    {
     "data": {
      "text/plain": [
       "Segmentation  Profession   \n",
       "A             Artist            558\n",
       "              Entertainment     365\n",
       "              Engineer          259\n",
       "              Doctor            199\n",
       "              Lawyer            197\n",
       "              Executive         125\n",
       "              Healthcare        106\n",
       "              Homemaker          73\n",
       "              Marketing          57\n",
       "B             Artist            756\n",
       "              Entertainment     221\n",
       "              Engineer          189\n",
       "              Executive         183\n",
       "              Lawyer            158\n",
       "              Doctor            143\n",
       "              Healthcare        101\n",
       "              Homemaker          55\n",
       "              Marketing          30\n",
       "C             Artist           1065\n",
       "              Executive         175\n",
       "              Entertainment     148\n",
       "              Healthcare        146\n",
       "              Doctor            140\n",
       "              Lawyer            140\n",
       "              Engineer           75\n",
       "              Marketing          35\n",
       "              Homemaker          28\n",
       "D             Healthcare        979\n",
       "              Entertainment     215\n",
       "              Doctor            206\n",
       "              Engineer          176\n",
       "              Marketing         170\n",
       "              Artist            137\n",
       "              Lawyer            128\n",
       "              Executive         116\n",
       "              Homemaker          90\n",
       "Name: Profession, dtype: int64"
      ]
     },
     "execution_count": 15,
     "metadata": {},
     "output_type": "execute_result"
    }
   ],
   "source": [
    "dfTr.groupby('Segmentation')['Profession'].value_counts()\n",
    "\n",
    "# Need to create chart to see the patterns"
   ]
  },
  {
   "cell_type": "markdown",
   "metadata": {},
   "source": [
    "Check spending score di segmentation apa, dll."
   ]
  },
  {
   "cell_type": "code",
   "execution_count": 16,
   "metadata": {},
   "outputs": [
    {
     "data": {
      "text/plain": [
       "Segmentation  Spending_Score\n",
       "A             Low               1358\n",
       "              Average            343\n",
       "              High               271\n",
       "B             Low                884\n",
       "              Average            590\n",
       "              High               384\n",
       "C             Average            903\n",
       "              Low                662\n",
       "              High               405\n",
       "D             Low               1974\n",
       "              High               156\n",
       "              Average            138\n",
       "Name: Spending_Score, dtype: int64"
      ]
     },
     "execution_count": 16,
     "metadata": {},
     "output_type": "execute_result"
    }
   ],
   "source": [
    "dfTr.groupby('Segmentation')['Spending_Score'].value_counts()"
   ]
  },
  {
   "cell_type": "code",
   "execution_count": 21,
   "metadata": {
    "collapsed": true,
    "jupyter": {
     "outputs_hidden": true
    }
   },
   "outputs": [
    {
     "data": {
      "text/plain": [
       "(2627, 20)"
      ]
     },
     "execution_count": 21,
     "metadata": {},
     "output_type": "execute_result"
    }
   ],
   "source": [
    "# Testing merging dataframes based on ID\n",
    "\n",
    "dfAll = pd.merge(dfTs, dfTr, how='left', on='ID')\n",
    "dfAll.shape"
   ]
  },
  {
   "cell_type": "code",
   "execution_count": null,
   "metadata": {},
   "outputs": [],
   "source": []
  }
 ],
 "metadata": {
  "kernelspec": {
   "display_name": "Python 3",
   "language": "python",
   "name": "python3"
  },
  "language_info": {
   "codemirror_mode": {
    "name": "ipython",
    "version": 3
   },
   "file_extension": ".py",
   "mimetype": "text/x-python",
   "name": "python",
   "nbconvert_exporter": "python",
   "pygments_lexer": "ipython3",
   "version": "3.7.3"
  }
 },
 "nbformat": 4,
 "nbformat_minor": 4
}
